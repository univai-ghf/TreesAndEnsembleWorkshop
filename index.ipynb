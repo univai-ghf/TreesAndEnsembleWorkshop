{
  "nbformat": 4,
  "nbformat_minor": 0,
  "metadata": {
    "colab": {
      "name": "TreesAndEnsemblesWorkshop_index.ipynb",
      "provenance": [],
      "collapsed_sections": []
    },
    "kernelspec": {
      "name": "python3",
      "display_name": "Python 3"
    },
    "language_info": {
      "name": "python"
    }
  },
  "cells": [
    {
      "cell_type": "markdown",
      "source": [
        "# **Trees & Ensembles Workshop**\n",
        "\n",
        "This workshop will teach several key concepts in data science: computing Gini index and Entropy from scratch in excel, Decision Tree Classifier, Bagging Classifier, Random Forest Classifier and Hyperparameter Tuning using GridSearchCV.\n",
        "\n",
        "At the end of this workshop, you will understand tree based classification models to tackle beginner data science prediction projects and implement them in Python. The homework will then let you exercise the skills you learned over the course of the workshop.\n",
        "\n",
        "Here is the outline of the workshop:\n",
        "\n",
        "1. **TreesEnsembles_part0** handles data preprocessing such as categorical encoding, train-test splitting, etc. We are assuming that you are comfortable with this topic and hence we would not go into the details of it. You can refer to [Feature Processing and Selection Workshop](https://github.com/univai-ghf/FeatureProcessingAndSelectionWorkshop) resources to brush up these concepts.\n",
        "\n",
        "**TreesEnsembles_part0**: [![Open Workshop In Colab](https://colab.research.google.com/assets/colab-badge.svg)](https://colab.research.google.com/github/univai-ghf/TreesAndEnsembleWorkshop/blob/main/TreesEnsembles_part0.ipynb) &nbsp;&nbsp;&nbsp;&nbsp; [<img src=\"https://github.githubassets.com/images/modules/logos_page/GitHub-Logo.png\" alt=\"Open In GitHub\" width=\"70\"/>](https://github.com/univai-ghf/TreesAndEnsembleWorkshop/blob/main/TreesEnsembles_part0.ipynb)\n",
        "<br><br>\n",
        "\n",
        "\n",
        "2. **TreesEnsembles_part1** teaches you Basic Decision Tree Classifier and GridSearchCV for Hyperparameter Tuning.\n",
        "\n",
        "**TreesEnsembles_part1**: [![Open Workshop In Colab](https://colab.research.google.com/assets/colab-badge.svg)](https://colab.research.google.com/github/univai-ghf/TreesAndEnsembleWorkshop/blob/main/TreesEnsembles_part1.ipynb) &nbsp;&nbsp;&nbsp;&nbsp; [<img src=\"https://github.githubassets.com/images/modules/logos_page/GitHub-Logo.png\" alt=\"Open In GitHub\" width=\"70\"/>](https://github.com/univai-ghf/TreesAndEnsembleWorkshop/blob/main/TreesEnsembles_part1.ipynb)\n",
        "<br><br>\n",
        "\n",
        "\n",
        "3. **TreesEnsembles_part2** will teach you Bagging Classifier and Random Forest Classifier.\n",
        "\n",
        "**TreesEnsembles_part2**: [![Open Workshop In Colab](https://colab.research.google.com/assets/colab-badge.svg)](https://colab.research.google.com/github/univai-ghf/TreesAndEnsembleWorkshop/blob/main/TreesEnsembles_part2.ipynb) &nbsp;&nbsp;&nbsp;&nbsp; [<img src=\"https://github.githubassets.com/images/modules/logos_page/GitHub-Logo.png\" alt=\"Open In GitHub\" width=\"70\"/>](https://github.com/univai-ghf/TreesAndEnsembleWorkshop/blob/main/TreesEnsembles_part2.ipynb)\n",
        "<br><br>\n",
        "\n",
        "\n",
        "4. **TreesEnsembles_part3 (Bonus Material)** teaches you the implementation for Gradient Boosting and XGB Classifier.\n",
        "\n",
        "**TreesEnsembles_part3 (Bonus Material)**: [![Open Workshop In Colab](https://colab.research.google.com/assets/colab-badge.svg)](https://colab.research.google.com/github/univai-ghf/TreesAndEnsembleWorkshop/blob/main/TreesEnsembles_part3.ipynb) &nbsp;&nbsp;&nbsp;&nbsp; [<img src=\"https://github.githubassets.com/images/modules/logos_page/GitHub-Logo.png\" alt=\"Open In GitHub\" width=\"70\"/>](https://github.com/univai-ghf/TreesAndEnsembleWorkshop/blob/main/TreesEnsembles_part3.ipynb)\n",
        "<br><br>\n",
        "\n",
        "\n",
        "Finally, a **homework** problem where you will find the best estimators for RandomForestClassifier. It will help cement your understanding!\n",
        "\n",
        "**Homework**: [![Open Workshop In Colab](https://colab.research.google.com/assets/colab-badge.svg)](https://colab.research.google.com/github/univai-ghf/TreesAndEnsembleWorkshop/blob/main/TreesEnsembles_Homework.ipynb) &nbsp;&nbsp;&nbsp;&nbsp; [<img src=\"https://github.githubassets.com/images/modules/logos_page/GitHub-Logo.png\" alt=\"Open In GitHub\" width=\"70\"/>](https://github.com/univai-ghf/TreesAndEnsembleWorkshop/blob/main/TreesEnsembles_Homework.ipynb)\n",
        "<br><br>\n",
        "\n",
        "\n",
        "**Decision Trees from Scratch:** [<img src=\"https://raw.githubusercontent.com/univai-ghf/ghfmedia/main/images/Google_Sheets_logo_(2014-2020).svg\" alt=\"Decision Trees from Scratch\" width=30>](https://docs.google.com/spreadsheets/d/1PZ2_g_d3MkB1lpp1JFCp7sDCcjb2fQD-v7xnc2qNns8/edit?usp=sharing)<br><br>\n",
        "\n",
        "**[KNIME](https://www.knime.com/) Download Link:** [https://www.knime.com/downloads](https://www.knime.com/downloads)<br><br>\n",
        "\n",
        "Happy Learning!!<br>"
      ],
      "metadata": {
        "id": "5EDpSt7JNJ-1"
      }
    }
  ]
}