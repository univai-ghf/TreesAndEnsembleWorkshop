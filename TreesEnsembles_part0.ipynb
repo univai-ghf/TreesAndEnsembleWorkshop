{
  "cells": [
    {
      "cell_type": "markdown",
      "metadata": {
        "id": "VuX4Tmgp0MZE"
      },
      "source": [
        "# Data Inputs and Display Libraries\n",
        "\n"
      ]
    },
    {
      "cell_type": "code",
      "execution_count": null,
      "metadata": {
        "id": "9bJmiGN30MZM"
      },
      "outputs": [],
      "source": [
        "\n",
        "import pandas as pd\n",
        "import numpy as np\n",
        "\n",
        "pd.set_option('display.float_format', lambda x: '%.5f' % x)\n",
        "from IPython.core.interactiveshell import InteractiveShell\n",
        "InteractiveShell.ast_node_interactivity = 'all'\n"
      ]
    },
    {
      "cell_type": "markdown",
      "metadata": {
        "id": "U8QzNHXF0MZQ"
      },
      "source": [
        "# EDA Libraries"
      ]
    },
    {
      "cell_type": "markdown",
      "metadata": {
        "id": "xJvtYXmD0MZS"
      },
      "source": [
        "# Data Preprocessing Libraries"
      ]
    },
    {
      "cell_type": "code",
      "execution_count": null,
      "metadata": {
        "id": "XOpf65rB0MZT"
      },
      "outputs": [],
      "source": [
        "from sklearn.impute import SimpleImputer\n",
        "from sklearn.preprocessing import OneHotEncoder\n",
        "from sklearn import preprocessing\n",
        "from sklearn.preprocessing import OrdinalEncoder\n"
      ]
    },
    {
      "cell_type": "markdown",
      "metadata": {
        "id": "mSvzntbp0MZV"
      },
      "source": [
        "# Feature Selection & Modeling Libraries"
      ]
    },
    {
      "cell_type": "code",
      "execution_count": null,
      "metadata": {
        "id": "BEvvp_tN0MZW"
      },
      "outputs": [],
      "source": [
        "from sklearn.model_selection import train_test_split\n",
        "from sklearn.feature_selection import SelectPercentile, f_classif\n",
        "import pickle\n"
      ]
    },
    {
      "cell_type": "code",
      "source": [
        "# Accessing the data\n",
        "!wget \"https://github.com/univai-ghf/ghfmedia/raw/main/data/Trees_and_Ensembles/datasets.rar\" \n",
        "!wget \"https://github.com/univai-ghf/ghfmedia/raw/main/data/Trees_and_Ensembles/prep_file.rar\" \n",
        "!wget \"https://github.com/univai-ghf/ghfmedia/raw/main/data/Trees_and_Ensembles/num_cols.csv\" \n",
        "!wget \"https://github.com/univai-ghf/ghfmedia/raw/main/data/Trees_and_Ensembles/str_cols.csv\" \n",
        "\n",
        "#unziping the rar\n",
        "!unrar x './datasets.rar'\n",
        "!unrar x './prep_file.rar'"
      ],
      "metadata": {
        "id": "ontkC07m5W_q",
        "colab": {
          "base_uri": "https://localhost:8080/"
        },
        "outputId": "2600a5e5-59db-4b82-d0b9-5136ecdfc94a"
      },
      "execution_count": null,
      "outputs": [
        {
          "output_type": "stream",
          "name": "stdout",
          "text": [
            "--2022-03-10 06:25:06--  https://github.com/univai-ghf/ghfmedia/raw/main/data/Trees_and_Ensembles/datasets.rar\n",
            "Resolving github.com (github.com)... 140.82.113.4\n",
            "Connecting to github.com (github.com)|140.82.113.4|:443... connected.\n",
            "HTTP request sent, awaiting response... 302 Found\n",
            "Location: https://raw.githubusercontent.com/univai-ghf/ghfmedia/main/data/Trees_and_Ensembles/datasets.rar [following]\n",
            "--2022-03-10 06:25:07--  https://raw.githubusercontent.com/univai-ghf/ghfmedia/main/data/Trees_and_Ensembles/datasets.rar\n",
            "Resolving raw.githubusercontent.com (raw.githubusercontent.com)... 185.199.108.133, 185.199.109.133, 185.199.110.133, ...\n",
            "Connecting to raw.githubusercontent.com (raw.githubusercontent.com)|185.199.108.133|:443... connected.\n",
            "HTTP request sent, awaiting response... 200 OK\n",
            "Length: 3508143 (3.3M) [application/octet-stream]\n",
            "Saving to: ‘datasets.rar’\n",
            "\n",
            "datasets.rar        100%[===================>]   3.34M  --.-KB/s    in 0.1s    \n",
            "\n",
            "2022-03-10 06:25:07 (31.3 MB/s) - ‘datasets.rar’ saved [3508143/3508143]\n",
            "\n",
            "--2022-03-10 06:25:07--  https://github.com/univai-ghf/ghfmedia/raw/main/data/Trees_and_Ensembles/prep_file.rar\n",
            "Resolving github.com (github.com)... 140.82.114.4\n",
            "Connecting to github.com (github.com)|140.82.114.4|:443... connected.\n",
            "HTTP request sent, awaiting response... 302 Found\n",
            "Location: https://raw.githubusercontent.com/univai-ghf/ghfmedia/main/data/Trees_and_Ensembles/prep_file.rar [following]\n",
            "--2022-03-10 06:25:07--  https://raw.githubusercontent.com/univai-ghf/ghfmedia/main/data/Trees_and_Ensembles/prep_file.rar\n",
            "Resolving raw.githubusercontent.com (raw.githubusercontent.com)... 185.199.111.133, 185.199.108.133, 185.199.110.133, ...\n",
            "Connecting to raw.githubusercontent.com (raw.githubusercontent.com)|185.199.111.133|:443... connected.\n",
            "HTTP request sent, awaiting response... 200 OK\n",
            "Length: 954088 (932K) [application/octet-stream]\n",
            "Saving to: ‘prep_file.rar’\n",
            "\n",
            "prep_file.rar       100%[===================>] 931.73K  --.-KB/s    in 0.06s   \n",
            "\n",
            "2022-03-10 06:25:08 (15.6 MB/s) - ‘prep_file.rar’ saved [954088/954088]\n",
            "\n",
            "--2022-03-10 06:25:08--  https://github.com/univai-ghf/ghfmedia/raw/main/data/Trees_and_Ensembles/num_cols.csv\n",
            "Resolving github.com (github.com)... 140.82.113.4\n",
            "Connecting to github.com (github.com)|140.82.113.4|:443... connected.\n",
            "HTTP request sent, awaiting response... 302 Found\n",
            "Location: https://raw.githubusercontent.com/univai-ghf/ghfmedia/main/data/Trees_and_Ensembles/num_cols.csv [following]\n",
            "--2022-03-10 06:25:08--  https://raw.githubusercontent.com/univai-ghf/ghfmedia/main/data/Trees_and_Ensembles/num_cols.csv\n",
            "Resolving raw.githubusercontent.com (raw.githubusercontent.com)... 185.199.108.133, 185.199.109.133, 185.199.110.133, ...\n",
            "Connecting to raw.githubusercontent.com (raw.githubusercontent.com)|185.199.108.133|:443... connected.\n",
            "HTTP request sent, awaiting response... 200 OK\n",
            "Length: 95 [text/plain]\n",
            "Saving to: ‘num_cols.csv’\n",
            "\n",
            "num_cols.csv        100%[===================>]      95  --.-KB/s    in 0s      \n",
            "\n",
            "2022-03-10 06:25:08 (3.70 MB/s) - ‘num_cols.csv’ saved [95/95]\n",
            "\n",
            "--2022-03-10 06:25:08--  https://github.com/univai-ghf/ghfmedia/raw/main/data/Trees_and_Ensembles/str_cols.csv\n",
            "Resolving github.com (github.com)... 140.82.113.4\n",
            "Connecting to github.com (github.com)|140.82.113.4|:443... connected.\n",
            "HTTP request sent, awaiting response... 302 Found\n",
            "Location: https://raw.githubusercontent.com/univai-ghf/ghfmedia/main/data/Trees_and_Ensembles/str_cols.csv [following]\n",
            "--2022-03-10 06:25:08--  https://raw.githubusercontent.com/univai-ghf/ghfmedia/main/data/Trees_and_Ensembles/str_cols.csv\n",
            "Resolving raw.githubusercontent.com (raw.githubusercontent.com)... 185.199.108.133, 185.199.109.133, 185.199.110.133, ...\n",
            "Connecting to raw.githubusercontent.com (raw.githubusercontent.com)|185.199.108.133|:443... connected.\n",
            "HTTP request sent, awaiting response... 200 OK\n",
            "Length: 82 [text/plain]\n",
            "Saving to: ‘str_cols.csv’\n",
            "\n",
            "str_cols.csv        100%[===================>]      82  --.-KB/s    in 0s      \n",
            "\n",
            "2022-03-10 06:25:08 (2.62 MB/s) - ‘str_cols.csv’ saved [82/82]\n",
            "\n",
            "\n",
            "UNRAR 5.50 freeware      Copyright (c) 1993-2017 Alexander Roshal\n",
            "\n",
            "\n",
            "Extracting from /content/datasets.rar\n",
            "\n",
            "Extracting  y_train1                                                     \b\b\b\b  0%\b\b\b\b\b  OK \n",
            "Extracting  df_all_test2                                                 \b\b\b\b  1%\b\b\b\b  2%\b\b\b\b  3%\b\b\b\b  4%\b\b\b\b  5%\b\b\b\b  6%\b\b\b\b  7%\b\b\b\b  8%\b\b\b\b  9%\b\b\b\b 10%\b\b\b\b 11%\b\b\b\b 12%\b\b\b\b 13%\b\b\b\b 14%\b\b\b\b 15%\b\b\b\b 16%\b\b\b\b 17%\b\b\b\b 18%\b\b\b\b 19%\b\b\b\b 20%\b\b\b\b 21%\b\b\b\b 22%\b\b\b\b 23%\b\b\b\b 24%\b\b\b\b 25%\b\b\b\b 26%\b\b\b\b 27%\b\b\b\b 28%\b\b\b\b 29%\b\b\b\b 30%\b\b\b\b 31%\b\b\b\b 32%\b\b\b\b 33%\b\b\b\b\b  OK \n",
            "Extracting  df_all_train2                                                \b\b\b\b 34%\b\b\b\b 35%\b\b\b\b 36%\b\b\b\b 37%\b\b\b\b 38%\b\b\b\b 39%\b\b\b\b 40%\b\b\b\b 41%\b\b\b\b 42%\b\b\b\b 43%\b\b\b\b 44%\b\b\b\b 45%\b\b\b\b 46%\b\b\b\b 47%\b\b\b\b 48%\b\b\b\b 49%\b\b\b\b 50%\b\b\b\b 51%\b\b\b\b 52%\b\b\b\b 53%\b\b\b\b 54%\b\b\b\b 55%\b\b\b\b 56%\b\b\b\b 57%\b\b\b\b 58%\b\b\b\b 59%\b\b\b\b 60%\b\b\b\b 61%\b\b\b\b 62%\b\b\b\b 63%\b\b\b\b 64%\b\b\b\b 65%\b\b\b\b 66%\b\b\b\b 67%\b\b\b\b 68%\b\b\b\b 69%\b\b\b\b 70%\b\b\b\b 71%\b\b\b\b 72%\b\b\b\b 73%\b\b\b\b 74%\b\b\b\b 75%\b\b\b\b 76%\b\b\b\b 77%\b\b\b\b 78%\b\b\b\b 79%\b\b\b\b 80%\b\b\b\b 81%\b\b\b\b 82%\b\b\b\b 83%\b\b\b\b 84%\b\b\b\b 85%\b\b\b\b 86%\b\b\b\b 87%\b\b\b\b 88%\b\b\b\b 89%\b\b\b\b 90%\b\b\b\b 91%\b\b\b\b 92%\b\b\b\b 93%\b\b\b\b 94%\b\b\b\b 95%\b\b\b\b 96%\b\b\b\b 97%\b\b\b\b 98%\b\b\b\b 99%\b\b\b\b\b  OK \n",
            "Extracting  sel_cols                                                     \b\b\b\b 99%\b\b\b\b\b  OK \n",
            "Extracting  y_test1                                                      \b\b\b\b 99%\b\b\b\b\b  OK \n",
            "All OK\n",
            "/bin/bash: -c: line 0: unexpected EOF while looking for matching `''\n",
            "/bin/bash: -c: line 1: syntax error: unexpected end of file\n"
          ]
        }
      ]
    },
    {
      "cell_type": "code",
      "execution_count": null,
      "metadata": {
        "id": "X8UPEaJM0MZl"
      },
      "outputs": [],
      "source": [
        "#t1 = pd.read_csv(\"./prep_file.csv\",sep=\",\")\n",
        "\n",
        "t1 = pd.read_csv(\"./prep_file.csv\")"
      ]
    },
    {
      "cell_type": "markdown",
      "metadata": {
        "id": "RGRhQqws0MZn"
      },
      "source": [
        "# Step 1-  Look at the data"
      ]
    },
    {
      "cell_type": "code",
      "execution_count": null,
      "metadata": {
        "colab": {
          "base_uri": "https://localhost:8080/",
          "height": 305
        },
        "id": "nCAFufZ-0MZp",
        "outputId": "8beeb17b-60cc-4852-f500-32a929490620"
      },
      "outputs": [
        {
          "output_type": "execute_result",
          "data": {
            "text/html": [
              "\n",
              "  <div id=\"df-1ef5f786-f2ea-46c5-b9bf-2150af15fbc9\">\n",
              "    <div class=\"colab-df-container\">\n",
              "      <div>\n",
              "<style scoped>\n",
              "    .dataframe tbody tr th:only-of-type {\n",
              "        vertical-align: middle;\n",
              "    }\n",
              "\n",
              "    .dataframe tbody tr th {\n",
              "        vertical-align: top;\n",
              "    }\n",
              "\n",
              "    .dataframe thead th {\n",
              "        text-align: right;\n",
              "    }\n",
              "</style>\n",
              "<table border=\"1\" class=\"dataframe\">\n",
              "  <thead>\n",
              "    <tr style=\"text-align: right;\">\n",
              "      <th></th>\n",
              "      <th>Unnamed: 0</th>\n",
              "      <th>income</th>\n",
              "      <th>age</th>\n",
              "      <th>experience</th>\n",
              "      <th>bureau_score</th>\n",
              "      <th>married</th>\n",
              "      <th>house_ownership</th>\n",
              "      <th>car_ownership</th>\n",
              "      <th>risk_flag</th>\n",
              "      <th>profession</th>\n",
              "      <th>city</th>\n",
              "      <th>state</th>\n",
              "      <th>current_job_years</th>\n",
              "      <th>current_house_years</th>\n",
              "      <th>device</th>\n",
              "    </tr>\n",
              "  </thead>\n",
              "  <tbody>\n",
              "    <tr>\n",
              "      <th>0</th>\n",
              "      <td>19607</td>\n",
              "      <td>2514921</td>\n",
              "      <td>31.00000</td>\n",
              "      <td>4.00000</td>\n",
              "      <td>651.00000</td>\n",
              "      <td>single</td>\n",
              "      <td>rented</td>\n",
              "      <td>no</td>\n",
              "      <td>0</td>\n",
              "      <td>Psychologist</td>\n",
              "      <td>Chandrapur</td>\n",
              "      <td>Maharashtra</td>\n",
              "      <td>4.00000</td>\n",
              "      <td>14.00000</td>\n",
              "      <td>Oppo</td>\n",
              "    </tr>\n",
              "    <tr>\n",
              "      <th>1</th>\n",
              "      <td>75516</td>\n",
              "      <td>7047674</td>\n",
              "      <td>28.00000</td>\n",
              "      <td>4.00000</td>\n",
              "      <td>526.00000</td>\n",
              "      <td>single</td>\n",
              "      <td>rented</td>\n",
              "      <td>yes</td>\n",
              "      <td>0</td>\n",
              "      <td>Economist</td>\n",
              "      <td>Ramagundam[27]</td>\n",
              "      <td>Telangana</td>\n",
              "      <td>3.00000</td>\n",
              "      <td>13.00000</td>\n",
              "      <td>Xiaomi</td>\n",
              "    </tr>\n",
              "    <tr>\n",
              "      <th>2</th>\n",
              "      <td>63804</td>\n",
              "      <td>2749317</td>\n",
              "      <td>30.00000</td>\n",
              "      <td>2.00000</td>\n",
              "      <td>526.00000</td>\n",
              "      <td>single</td>\n",
              "      <td>rented</td>\n",
              "      <td>no</td>\n",
              "      <td>0</td>\n",
              "      <td>Secretary</td>\n",
              "      <td>Ramagundam[27]</td>\n",
              "      <td>Telangana</td>\n",
              "      <td>2.00000</td>\n",
              "      <td>14.00000</td>\n",
              "      <td>samsung</td>\n",
              "    </tr>\n",
              "    <tr>\n",
              "      <th>3</th>\n",
              "      <td>63676</td>\n",
              "      <td>7378274</td>\n",
              "      <td>24.00000</td>\n",
              "      <td>0.00000</td>\n",
              "      <td>764.00000</td>\n",
              "      <td>single</td>\n",
              "      <td>rented</td>\n",
              "      <td>no</td>\n",
              "      <td>0</td>\n",
              "      <td>Flight attendant</td>\n",
              "      <td>Adoni</td>\n",
              "      <td>Andhra Pradesh</td>\n",
              "      <td>0.00000</td>\n",
              "      <td>11.00000</td>\n",
              "      <td>samsung</td>\n",
              "    </tr>\n",
              "    <tr>\n",
              "      <th>4</th>\n",
              "      <td>50914</td>\n",
              "      <td>9574585</td>\n",
              "      <td>27.00000</td>\n",
              "      <td>5.00000</td>\n",
              "      <td>739.00000</td>\n",
              "      <td>single</td>\n",
              "      <td>rented</td>\n",
              "      <td>yes</td>\n",
              "      <td>0</td>\n",
              "      <td>Technician</td>\n",
              "      <td>Imphal</td>\n",
              "      <td>Manipur</td>\n",
              "      <td>5.00000</td>\n",
              "      <td>10.00000</td>\n",
              "      <td>Vivo</td>\n",
              "    </tr>\n",
              "  </tbody>\n",
              "</table>\n",
              "</div>\n",
              "      <button class=\"colab-df-convert\" onclick=\"convertToInteractive('df-1ef5f786-f2ea-46c5-b9bf-2150af15fbc9')\"\n",
              "              title=\"Convert this dataframe to an interactive table.\"\n",
              "              style=\"display:none;\">\n",
              "        \n",
              "  <svg xmlns=\"http://www.w3.org/2000/svg\" height=\"24px\"viewBox=\"0 0 24 24\"\n",
              "       width=\"24px\">\n",
              "    <path d=\"M0 0h24v24H0V0z\" fill=\"none\"/>\n",
              "    <path d=\"M18.56 5.44l.94 2.06.94-2.06 2.06-.94-2.06-.94-.94-2.06-.94 2.06-2.06.94zm-11 1L8.5 8.5l.94-2.06 2.06-.94-2.06-.94L8.5 2.5l-.94 2.06-2.06.94zm10 10l.94 2.06.94-2.06 2.06-.94-2.06-.94-.94-2.06-.94 2.06-2.06.94z\"/><path d=\"M17.41 7.96l-1.37-1.37c-.4-.4-.92-.59-1.43-.59-.52 0-1.04.2-1.43.59L10.3 9.45l-7.72 7.72c-.78.78-.78 2.05 0 2.83L4 21.41c.39.39.9.59 1.41.59.51 0 1.02-.2 1.41-.59l7.78-7.78 2.81-2.81c.8-.78.8-2.07 0-2.86zM5.41 20L4 18.59l7.72-7.72 1.47 1.35L5.41 20z\"/>\n",
              "  </svg>\n",
              "      </button>\n",
              "      \n",
              "  <style>\n",
              "    .colab-df-container {\n",
              "      display:flex;\n",
              "      flex-wrap:wrap;\n",
              "      gap: 12px;\n",
              "    }\n",
              "\n",
              "    .colab-df-convert {\n",
              "      background-color: #E8F0FE;\n",
              "      border: none;\n",
              "      border-radius: 50%;\n",
              "      cursor: pointer;\n",
              "      display: none;\n",
              "      fill: #1967D2;\n",
              "      height: 32px;\n",
              "      padding: 0 0 0 0;\n",
              "      width: 32px;\n",
              "    }\n",
              "\n",
              "    .colab-df-convert:hover {\n",
              "      background-color: #E2EBFA;\n",
              "      box-shadow: 0px 1px 2px rgba(60, 64, 67, 0.3), 0px 1px 3px 1px rgba(60, 64, 67, 0.15);\n",
              "      fill: #174EA6;\n",
              "    }\n",
              "\n",
              "    [theme=dark] .colab-df-convert {\n",
              "      background-color: #3B4455;\n",
              "      fill: #D2E3FC;\n",
              "    }\n",
              "\n",
              "    [theme=dark] .colab-df-convert:hover {\n",
              "      background-color: #434B5C;\n",
              "      box-shadow: 0px 1px 3px 1px rgba(0, 0, 0, 0.15);\n",
              "      filter: drop-shadow(0px 1px 2px rgba(0, 0, 0, 0.3));\n",
              "      fill: #FFFFFF;\n",
              "    }\n",
              "  </style>\n",
              "\n",
              "      <script>\n",
              "        const buttonEl =\n",
              "          document.querySelector('#df-1ef5f786-f2ea-46c5-b9bf-2150af15fbc9 button.colab-df-convert');\n",
              "        buttonEl.style.display =\n",
              "          google.colab.kernel.accessAllowed ? 'block' : 'none';\n",
              "\n",
              "        async function convertToInteractive(key) {\n",
              "          const element = document.querySelector('#df-1ef5f786-f2ea-46c5-b9bf-2150af15fbc9');\n",
              "          const dataTable =\n",
              "            await google.colab.kernel.invokeFunction('convertToInteractive',\n",
              "                                                     [key], {});\n",
              "          if (!dataTable) return;\n",
              "\n",
              "          const docLinkHtml = 'Like what you see? Visit the ' +\n",
              "            '<a target=\"_blank\" href=https://colab.research.google.com/notebooks/data_table.ipynb>data table notebook</a>'\n",
              "            + ' to learn more about interactive tables.';\n",
              "          element.innerHTML = '';\n",
              "          dataTable['output_type'] = 'display_data';\n",
              "          await google.colab.output.renderOutput(dataTable, element);\n",
              "          const docLink = document.createElement('div');\n",
              "          docLink.innerHTML = docLinkHtml;\n",
              "          element.appendChild(docLink);\n",
              "        }\n",
              "      </script>\n",
              "    </div>\n",
              "  </div>\n",
              "  "
            ],
            "text/plain": [
              "   Unnamed: 0   income      age  experience  bureau_score married  \\\n",
              "0       19607  2514921 31.00000     4.00000     651.00000  single   \n",
              "1       75516  7047674 28.00000     4.00000     526.00000  single   \n",
              "2       63804  2749317 30.00000     2.00000     526.00000  single   \n",
              "3       63676  7378274 24.00000     0.00000     764.00000  single   \n",
              "4       50914  9574585 27.00000     5.00000     739.00000  single   \n",
              "\n",
              "  house_ownership car_ownership  risk_flag        profession            city  \\\n",
              "0          rented            no          0      Psychologist      Chandrapur   \n",
              "1          rented           yes          0         Economist  Ramagundam[27]   \n",
              "2          rented            no          0         Secretary  Ramagundam[27]   \n",
              "3          rented            no          0  Flight attendant           Adoni   \n",
              "4          rented           yes          0        Technician          Imphal   \n",
              "\n",
              "            state  current_job_years  current_house_years   device  \n",
              "0     Maharashtra            4.00000             14.00000     Oppo  \n",
              "1       Telangana            3.00000             13.00000  Xiaomi   \n",
              "2       Telangana            2.00000             14.00000  samsung  \n",
              "3  Andhra Pradesh            0.00000             11.00000  samsung  \n",
              "4         Manipur            5.00000             10.00000     Vivo  "
            ]
          },
          "metadata": {},
          "execution_count": 10
        }
      ],
      "source": [
        "t1.head()"
      ]
    },
    {
      "cell_type": "code",
      "execution_count": null,
      "metadata": {
        "id": "4K_HLmAS5Orj",
        "outputId": "4e61ba76-6899-47c6-f2f7-f7efc64e6503",
        "colab": {
          "base_uri": "https://localhost:8080/"
        }
      },
      "outputs": [
        {
          "output_type": "execute_result",
          "data": {
            "text/plain": [
              "Index(['Unnamed: 0', 'income', 'age', 'experience', 'bureau_score', 'married',\n",
              "       'house_ownership', 'car_ownership', 'risk_flag', 'profession', 'city',\n",
              "       'state', 'current_job_years', 'current_house_years', 'device'],\n",
              "      dtype='object')"
            ]
          },
          "metadata": {},
          "execution_count": 11
        }
      ],
      "source": [
        "t1.columns"
      ]
    },
    {
      "cell_type": "markdown",
      "metadata": {
        "id": "462frsv50MZ2"
      },
      "source": [
        "# Look at data - now to get the target variable distribution"
      ]
    },
    {
      "cell_type": "code",
      "execution_count": null,
      "metadata": {
        "colab": {
          "base_uri": "https://localhost:8080/"
        },
        "id": "gytLI6zK0MZ3",
        "outputId": "a9ec17cf-caa4-421b-a285-8069ca920bb7"
      },
      "outputs": [
        {
          "output_type": "execute_result",
          "data": {
            "text/plain": [
              "0    236567\n",
              "1     43433\n",
              "Name: risk_flag, dtype: int64"
            ]
          },
          "metadata": {},
          "execution_count": 12
        }
      ],
      "source": [
        "t1[\"risk_flag\"].value_counts()"
      ]
    },
    {
      "cell_type": "code",
      "execution_count": null,
      "metadata": {
        "colab": {
          "base_uri": "https://localhost:8080/"
        },
        "id": "BFKelz7K0MZ4",
        "outputId": "bc7fb216-232c-4749-b321-0536d3d467a0"
      },
      "outputs": [
        {
          "output_type": "execute_result",
          "data": {
            "text/plain": [
              "0   0.84488\n",
              "1   0.15512\n",
              "Name: risk_flag, dtype: float64"
            ]
          },
          "metadata": {},
          "execution_count": 13
        }
      ],
      "source": [
        "t1[\"risk_flag\"].value_counts(normalize=True)"
      ]
    },
    {
      "cell_type": "markdown",
      "metadata": {
        "id": "KtI1C1dJ0MZ5"
      },
      "source": [
        "# Look at data - listing string and numeric columns"
      ]
    },
    {
      "cell_type": "code",
      "execution_count": null,
      "metadata": {
        "id": "8E7V58uE0MZ6"
      },
      "outputs": [],
      "source": [
        "#String Columns\n",
        "str_col_name_df = pd.read_csv(\"./str_cols.csv\")\n",
        "str_col_name_df.columns = [\"index\",\"col_name\"]\n",
        "str_col_name_list =list(str_col_name_df[\"col_name\"])\n",
        "\n",
        "#Numeric Columns\n",
        "num_col_name_df = pd.read_csv(\"./num_cols.csv\")\n",
        "num_col_name_df.columns = [\"index\",\"col_name\"]\n",
        "num_col_name_df=num_col_name_df.reset_index()\n",
        "num_col_name_list = list(num_col_name_df[\"col_name\"])"
      ]
    },
    {
      "cell_type": "code",
      "execution_count": null,
      "metadata": {
        "colab": {
          "base_uri": "https://localhost:8080/"
        },
        "id": "YvTTjKF80MZ7",
        "outputId": "4470a7c8-c7ab-4bbf-d650-114802dec5b4"
      },
      "outputs": [
        {
          "output_type": "stream",
          "name": "stdout",
          "text": [
            "['profession', 'married', 'house_ownership', 'car_ownership', 'city', 'state']\n",
            "['income', 'age', 'experience', 'current_job_years', 'current_house_years', 'bureau_score']\n"
          ]
        }
      ],
      "source": [
        "print (str_col_name_list)\n",
        "print (num_col_name_list)"
      ]
    },
    {
      "cell_type": "code",
      "execution_count": null,
      "metadata": {
        "id": "WmtnE-M6D7kf",
        "colab": {
          "base_uri": "https://localhost:8080/"
        },
        "outputId": "abd88f3a-3e32-40e1-e131-dd35723e2134"
      },
      "outputs": [
        {
          "output_type": "stream",
          "name": "stderr",
          "text": [
            "/usr/local/lib/python3.7/dist-packages/ipykernel_launcher.py:4: FutureWarning: The default value of regex will change from True to False in a future version.\n",
            "  after removing the cwd from sys.path.\n"
          ]
        }
      ],
      "source": [
        "t0 = t1.copy()\n",
        "for i in str_col_name_list:\n",
        "    t1[i] = t1[i].str.lower().str.lstrip().str.rstrip()\n",
        "    t1[i] = t1[i].str.replace(\"[^a-z\\s]+\",\"\")\n"
      ]
    },
    {
      "cell_type": "markdown",
      "metadata": {
        "id": "MszhUfbH0MaA"
      },
      "source": [
        "# Train-Test Split\n",
        "### Before we do any preprocessing we want to keep train and test separate"
      ]
    },
    {
      "cell_type": "code",
      "execution_count": null,
      "metadata": {
        "id": "PvjrT_150MaA"
      },
      "outputs": [],
      "source": [
        "x_train, x_test, y_train, y_test = train_test_split(t1, t1[\"risk_flag\"], test_size=0.33, random_state=42)"
      ]
    },
    {
      "cell_type": "code",
      "execution_count": null,
      "metadata": {
        "id": "UH-aqvxd0MaB"
      },
      "outputs": [],
      "source": [
        "x_train0 = x_train.reset_index()\n",
        "x_test0 = x_test.reset_index()"
      ]
    },
    {
      "cell_type": "code",
      "execution_count": null,
      "metadata": {
        "colab": {
          "base_uri": "https://localhost:8080/"
        },
        "id": "EbiFI81Z-9oc",
        "outputId": "52a3fca6-56dc-4fe9-d235-f531c70eb17d"
      },
      "outputs": [
        {
          "output_type": "execute_result",
          "data": {
            "text/plain": [
              "((187600, 16), (92400, 16))"
            ]
          },
          "metadata": {},
          "execution_count": 20
        }
      ],
      "source": [
        "x_train0.shape, x_test0.shape"
      ]
    },
    {
      "cell_type": "markdown",
      "metadata": {
        "id": "WDxrEwWRIfSg"
      },
      "source": [
        "#One-Hot Encoding Categorical Features and Label Encoding Target Variable -- baseline categorical approach"
      ]
    },
    {
      "cell_type": "code",
      "execution_count": null,
      "metadata": {
        "id": "KiDmJn_4SrLn",
        "colab": {
          "base_uri": "https://localhost:8080/"
        },
        "outputId": "ff01e15b-bacc-45f5-af55-a755fb2e3d46"
      },
      "outputs": [
        {
          "output_type": "stream",
          "name": "stderr",
          "text": [
            "/usr/local/lib/python3.7/dist-packages/sklearn/utils/deprecation.py:87: FutureWarning: Function get_feature_names is deprecated; get_feature_names is deprecated in 1.0 and will be removed in 1.2. Please use get_feature_names_out instead.\n",
            "  warnings.warn(msg, category=FutureWarning)\n"
          ]
        }
      ],
      "source": [
        "\n",
        "\n",
        "enc = OneHotEncoder(handle_unknown='ignore')\n",
        "df_one_hot_tr = pd.DataFrame(enc.fit_transform(np.array(x_train0[str_col_name_list])).todense())\n",
        "df_one_hot_te = pd.DataFrame(enc.transform(np.array(x_test0[str_col_name_list])).todense())\n",
        "colnames = enc.get_feature_names()\n",
        "\n",
        "df_one_hot_tr.columns = colnames\n",
        "df_one_hot_te.columns = colnames"
      ]
    },
    {
      "cell_type": "code",
      "execution_count": null,
      "metadata": {
        "colab": {
          "base_uri": "https://localhost:8080/",
          "height": 334
        },
        "id": "zCCvQ2ah6m8M",
        "outputId": "a50422a1-e39e-4377-f38f-e084f116196a"
      },
      "outputs": [
        {
          "output_type": "execute_result",
          "data": {
            "text/html": [
              "\n",
              "  <div id=\"df-eb07061d-a15b-4b55-b9a7-7a9ca32fba2e\">\n",
              "    <div class=\"colab-df-container\">\n",
              "      <div>\n",
              "<style scoped>\n",
              "    .dataframe tbody tr th:only-of-type {\n",
              "        vertical-align: middle;\n",
              "    }\n",
              "\n",
              "    .dataframe tbody tr th {\n",
              "        vertical-align: top;\n",
              "    }\n",
              "\n",
              "    .dataframe thead th {\n",
              "        text-align: right;\n",
              "    }\n",
              "</style>\n",
              "<table border=\"1\" class=\"dataframe\">\n",
              "  <thead>\n",
              "    <tr style=\"text-align: right;\">\n",
              "      <th></th>\n",
              "      <th>x0_air traffic controller</th>\n",
              "      <th>x0_analyst</th>\n",
              "      <th>x0_architect</th>\n",
              "      <th>x0_army officer</th>\n",
              "      <th>x0_artist</th>\n",
              "      <th>x0_aviator</th>\n",
              "      <th>x0_biomedical engineer</th>\n",
              "      <th>x0_chartered accountant</th>\n",
              "      <th>x0_chef</th>\n",
              "      <th>x0_chemical engineer</th>\n",
              "      <th>...</th>\n",
              "      <th>x5_puducherry</th>\n",
              "      <th>x5_punjab</th>\n",
              "      <th>x5_rajasthan</th>\n",
              "      <th>x5_sikkim</th>\n",
              "      <th>x5_tamil nadu</th>\n",
              "      <th>x5_telangana</th>\n",
              "      <th>x5_tripura</th>\n",
              "      <th>x5_uttar pradesh</th>\n",
              "      <th>x5_uttarakhand</th>\n",
              "      <th>x5_west bengal</th>\n",
              "    </tr>\n",
              "  </thead>\n",
              "  <tbody>\n",
              "    <tr>\n",
              "      <th>0</th>\n",
              "      <td>0</td>\n",
              "      <td>0</td>\n",
              "      <td>0</td>\n",
              "      <td>0</td>\n",
              "      <td>0</td>\n",
              "      <td>0</td>\n",
              "      <td>0</td>\n",
              "      <td>0</td>\n",
              "      <td>0</td>\n",
              "      <td>0</td>\n",
              "      <td>...</td>\n",
              "      <td>0</td>\n",
              "      <td>0</td>\n",
              "      <td>0</td>\n",
              "      <td>0</td>\n",
              "      <td>0</td>\n",
              "      <td>0</td>\n",
              "      <td>0</td>\n",
              "      <td>1</td>\n",
              "      <td>0</td>\n",
              "      <td>0</td>\n",
              "    </tr>\n",
              "    <tr>\n",
              "      <th>1</th>\n",
              "      <td>0</td>\n",
              "      <td>0</td>\n",
              "      <td>0</td>\n",
              "      <td>0</td>\n",
              "      <td>0</td>\n",
              "      <td>0</td>\n",
              "      <td>0</td>\n",
              "      <td>0</td>\n",
              "      <td>1</td>\n",
              "      <td>0</td>\n",
              "      <td>...</td>\n",
              "      <td>1</td>\n",
              "      <td>0</td>\n",
              "      <td>0</td>\n",
              "      <td>0</td>\n",
              "      <td>0</td>\n",
              "      <td>0</td>\n",
              "      <td>0</td>\n",
              "      <td>0</td>\n",
              "      <td>0</td>\n",
              "      <td>0</td>\n",
              "    </tr>\n",
              "    <tr>\n",
              "      <th>2</th>\n",
              "      <td>0</td>\n",
              "      <td>0</td>\n",
              "      <td>0</td>\n",
              "      <td>0</td>\n",
              "      <td>0</td>\n",
              "      <td>0</td>\n",
              "      <td>0</td>\n",
              "      <td>0</td>\n",
              "      <td>0</td>\n",
              "      <td>0</td>\n",
              "      <td>...</td>\n",
              "      <td>0</td>\n",
              "      <td>0</td>\n",
              "      <td>0</td>\n",
              "      <td>0</td>\n",
              "      <td>0</td>\n",
              "      <td>0</td>\n",
              "      <td>0</td>\n",
              "      <td>0</td>\n",
              "      <td>0</td>\n",
              "      <td>0</td>\n",
              "    </tr>\n",
              "    <tr>\n",
              "      <th>3</th>\n",
              "      <td>0</td>\n",
              "      <td>0</td>\n",
              "      <td>0</td>\n",
              "      <td>0</td>\n",
              "      <td>0</td>\n",
              "      <td>0</td>\n",
              "      <td>0</td>\n",
              "      <td>0</td>\n",
              "      <td>0</td>\n",
              "      <td>0</td>\n",
              "      <td>...</td>\n",
              "      <td>0</td>\n",
              "      <td>0</td>\n",
              "      <td>0</td>\n",
              "      <td>0</td>\n",
              "      <td>0</td>\n",
              "      <td>0</td>\n",
              "      <td>0</td>\n",
              "      <td>0</td>\n",
              "      <td>0</td>\n",
              "      <td>0</td>\n",
              "    </tr>\n",
              "    <tr>\n",
              "      <th>4</th>\n",
              "      <td>0</td>\n",
              "      <td>0</td>\n",
              "      <td>0</td>\n",
              "      <td>0</td>\n",
              "      <td>0</td>\n",
              "      <td>0</td>\n",
              "      <td>0</td>\n",
              "      <td>0</td>\n",
              "      <td>0</td>\n",
              "      <td>0</td>\n",
              "      <td>...</td>\n",
              "      <td>0</td>\n",
              "      <td>0</td>\n",
              "      <td>0</td>\n",
              "      <td>0</td>\n",
              "      <td>0</td>\n",
              "      <td>0</td>\n",
              "      <td>0</td>\n",
              "      <td>0</td>\n",
              "      <td>0</td>\n",
              "      <td>0</td>\n",
              "    </tr>\n",
              "  </tbody>\n",
              "</table>\n",
              "<p>5 rows × 402 columns</p>\n",
              "</div>\n",
              "      <button class=\"colab-df-convert\" onclick=\"convertToInteractive('df-eb07061d-a15b-4b55-b9a7-7a9ca32fba2e')\"\n",
              "              title=\"Convert this dataframe to an interactive table.\"\n",
              "              style=\"display:none;\">\n",
              "        \n",
              "  <svg xmlns=\"http://www.w3.org/2000/svg\" height=\"24px\"viewBox=\"0 0 24 24\"\n",
              "       width=\"24px\">\n",
              "    <path d=\"M0 0h24v24H0V0z\" fill=\"none\"/>\n",
              "    <path d=\"M18.56 5.44l.94 2.06.94-2.06 2.06-.94-2.06-.94-.94-2.06-.94 2.06-2.06.94zm-11 1L8.5 8.5l.94-2.06 2.06-.94-2.06-.94L8.5 2.5l-.94 2.06-2.06.94zm10 10l.94 2.06.94-2.06 2.06-.94-2.06-.94-.94-2.06-.94 2.06-2.06.94z\"/><path d=\"M17.41 7.96l-1.37-1.37c-.4-.4-.92-.59-1.43-.59-.52 0-1.04.2-1.43.59L10.3 9.45l-7.72 7.72c-.78.78-.78 2.05 0 2.83L4 21.41c.39.39.9.59 1.41.59.51 0 1.02-.2 1.41-.59l7.78-7.78 2.81-2.81c.8-.78.8-2.07 0-2.86zM5.41 20L4 18.59l7.72-7.72 1.47 1.35L5.41 20z\"/>\n",
              "  </svg>\n",
              "      </button>\n",
              "      \n",
              "  <style>\n",
              "    .colab-df-container {\n",
              "      display:flex;\n",
              "      flex-wrap:wrap;\n",
              "      gap: 12px;\n",
              "    }\n",
              "\n",
              "    .colab-df-convert {\n",
              "      background-color: #E8F0FE;\n",
              "      border: none;\n",
              "      border-radius: 50%;\n",
              "      cursor: pointer;\n",
              "      display: none;\n",
              "      fill: #1967D2;\n",
              "      height: 32px;\n",
              "      padding: 0 0 0 0;\n",
              "      width: 32px;\n",
              "    }\n",
              "\n",
              "    .colab-df-convert:hover {\n",
              "      background-color: #E2EBFA;\n",
              "      box-shadow: 0px 1px 2px rgba(60, 64, 67, 0.3), 0px 1px 3px 1px rgba(60, 64, 67, 0.15);\n",
              "      fill: #174EA6;\n",
              "    }\n",
              "\n",
              "    [theme=dark] .colab-df-convert {\n",
              "      background-color: #3B4455;\n",
              "      fill: #D2E3FC;\n",
              "    }\n",
              "\n",
              "    [theme=dark] .colab-df-convert:hover {\n",
              "      background-color: #434B5C;\n",
              "      box-shadow: 0px 1px 3px 1px rgba(0, 0, 0, 0.15);\n",
              "      filter: drop-shadow(0px 1px 2px rgba(0, 0, 0, 0.3));\n",
              "      fill: #FFFFFF;\n",
              "    }\n",
              "  </style>\n",
              "\n",
              "      <script>\n",
              "        const buttonEl =\n",
              "          document.querySelector('#df-eb07061d-a15b-4b55-b9a7-7a9ca32fba2e button.colab-df-convert');\n",
              "        buttonEl.style.display =\n",
              "          google.colab.kernel.accessAllowed ? 'block' : 'none';\n",
              "\n",
              "        async function convertToInteractive(key) {\n",
              "          const element = document.querySelector('#df-eb07061d-a15b-4b55-b9a7-7a9ca32fba2e');\n",
              "          const dataTable =\n",
              "            await google.colab.kernel.invokeFunction('convertToInteractive',\n",
              "                                                     [key], {});\n",
              "          if (!dataTable) return;\n",
              "\n",
              "          const docLinkHtml = 'Like what you see? Visit the ' +\n",
              "            '<a target=\"_blank\" href=https://colab.research.google.com/notebooks/data_table.ipynb>data table notebook</a>'\n",
              "            + ' to learn more about interactive tables.';\n",
              "          element.innerHTML = '';\n",
              "          dataTable['output_type'] = 'display_data';\n",
              "          await google.colab.output.renderOutput(dataTable, element);\n",
              "          const docLink = document.createElement('div');\n",
              "          docLink.innerHTML = docLinkHtml;\n",
              "          element.appendChild(docLink);\n",
              "        }\n",
              "      </script>\n",
              "    </div>\n",
              "  </div>\n",
              "  "
            ],
            "text/plain": [
              "   x0_air traffic controller  x0_analyst  x0_architect  x0_army officer  \\\n",
              "0                          0           0             0                0   \n",
              "1                          0           0             0                0   \n",
              "2                          0           0             0                0   \n",
              "3                          0           0             0                0   \n",
              "4                          0           0             0                0   \n",
              "\n",
              "   x0_artist  x0_aviator  x0_biomedical engineer  x0_chartered accountant  \\\n",
              "0          0           0                       0                        0   \n",
              "1          0           0                       0                        0   \n",
              "2          0           0                       0                        0   \n",
              "3          0           0                       0                        0   \n",
              "4          0           0                       0                        0   \n",
              "\n",
              "   x0_chef  x0_chemical engineer  ...  x5_puducherry  x5_punjab  x5_rajasthan  \\\n",
              "0        0                     0  ...              0          0             0   \n",
              "1        1                     0  ...              1          0             0   \n",
              "2        0                     0  ...              0          0             0   \n",
              "3        0                     0  ...              0          0             0   \n",
              "4        0                     0  ...              0          0             0   \n",
              "\n",
              "   x5_sikkim  x5_tamil nadu  x5_telangana  x5_tripura  x5_uttar pradesh  \\\n",
              "0          0              0             0           0                 1   \n",
              "1          0              0             0           0                 0   \n",
              "2          0              0             0           0                 0   \n",
              "3          0              0             0           0                 0   \n",
              "4          0              0             0           0                 0   \n",
              "\n",
              "   x5_uttarakhand  x5_west bengal  \n",
              "0               0               0  \n",
              "1               0               0  \n",
              "2               0               0  \n",
              "3               0               0  \n",
              "4               0               0  \n",
              "\n",
              "[5 rows x 402 columns]"
            ]
          },
          "metadata": {},
          "execution_count": 22
        }
      ],
      "source": [
        "viz1 = df_one_hot_tr.head()\n",
        "viz1 = viz1.astype(int)\n",
        "viz1.columns = colnames\n",
        "viz1"
      ]
    },
    {
      "cell_type": "code",
      "execution_count": null,
      "metadata": {
        "colab": {
          "base_uri": "https://localhost:8080/"
        },
        "id": "PY6m-29E9yAU",
        "outputId": "f55ffbd7-da5c-43b9-ca81-e2a9cea4b0ca"
      },
      "outputs": [
        {
          "output_type": "execute_result",
          "data": {
            "text/plain": [
              "SimpleImputer()"
            ]
          },
          "metadata": {},
          "execution_count": 23
        }
      ],
      "source": [
        "imp_mean = SimpleImputer(missing_values=np.nan, strategy='mean')\n",
        "imp_mean.fit(x_train0[num_col_name_list])\n",
        "\n",
        "x_train_num = pd.DataFrame(imp_mean.transform(x_train0[num_col_name_list]))\n",
        "x_test_num = pd.DataFrame(imp_mean.transform(x_test0[num_col_name_list]))\n",
        "\n",
        "x_train_num.columns = num_col_name_list\n",
        "x_test_num.columns = num_col_name_list"
      ]
    },
    {
      "cell_type": "markdown",
      "metadata": {
        "id": "KqFrxFzyJkqU"
      },
      "source": [
        "# Concatenating Numeric and Categorical Features"
      ]
    },
    {
      "cell_type": "code",
      "execution_count": null,
      "metadata": {
        "id": "nZBT8LImOq-F"
      },
      "outputs": [],
      "source": [
        "df_all_train1 = pd.concat([df_one_hot_tr,x_train_num],axis=1)\n",
        "df_all_test1 = pd.concat([df_one_hot_te,x_test_num],axis=1)"
      ]
    },
    {
      "cell_type": "code",
      "execution_count": null,
      "metadata": {
        "id": "5Geu3j5s2H5A"
      },
      "outputs": [],
      "source": [
        "all_cols = list(colnames) + num_col_name_list"
      ]
    },
    {
      "cell_type": "code",
      "execution_count": null,
      "metadata": {
        "id": "CUtR7RjKHCcI"
      },
      "outputs": [],
      "source": [
        "##back to presentation"
      ]
    },
    {
      "cell_type": "code",
      "execution_count": null,
      "metadata": {
        "id": "D7LxMh9m_axu"
      },
      "outputs": [],
      "source": [
        "\n",
        "le = preprocessing.LabelEncoder()\n",
        "y_train1 = le.fit_transform(y_train)\n",
        "y_test1 = le.transform(y_test)"
      ]
    },
    {
      "cell_type": "markdown",
      "metadata": {
        "id": "nHwwAlhUJsbO"
      },
      "source": [
        ":"
      ]
    },
    {
      "cell_type": "code",
      "execution_count": null,
      "metadata": {
        "colab": {
          "base_uri": "https://localhost:8080/"
        },
        "id": "K4cXKlSa-PVD",
        "outputId": "d137b35d-d744-4b6d-b43d-88a57baea2c9"
      },
      "outputs": [
        {
          "output_type": "execute_result",
          "data": {
            "text/plain": [
              "SelectPercentile(percentile=60)"
            ]
          },
          "metadata": {},
          "execution_count": 28
        }
      ],
      "source": [
        "#Feature selection\n",
        "\n",
        "selector = SelectPercentile(f_classif, percentile=60)\n",
        "selector.fit(df_all_train1, y_train1)\n",
        "df_all_train2 = selector.transform(df_all_train1)\n",
        "df_all_test2 = selector.transform(df_all_test1)"
      ]
    },
    {
      "cell_type": "code",
      "execution_count": null,
      "metadata": {
        "id": "oFnkSLCF5OsG",
        "outputId": "09e47cb4-fd4f-479b-810b-3a343bd87db9",
        "colab": {
          "base_uri": "https://localhost:8080/"
        }
      },
      "outputs": [
        {
          "output_type": "execute_result",
          "data": {
            "text/plain": [
              "((187600, 408), (187600, 245))"
            ]
          },
          "metadata": {},
          "execution_count": 29
        }
      ],
      "source": [
        "df_all_train1.shape, df_all_train2.shape"
      ]
    },
    {
      "cell_type": "code",
      "execution_count": null,
      "metadata": {
        "id": "PZxKLEX6e7Hy"
      },
      "outputs": [],
      "source": [
        "columns_flag = selector.get_support()\n",
        "#sel_cols = all_cols[columns_flag==True]\n",
        "sel_cols =[]\n",
        "for num,i in enumerate(all_cols):\n",
        "    if (columns_flag[num]==True):\n",
        "        sel_cols.append(i)"
      ]
    },
    {
      "cell_type": "code",
      "execution_count": null,
      "metadata": {
        "id": "ZRjaaASf5OsK",
        "outputId": "187d1945-d4a8-4273-b00d-141b2061561b",
        "colab": {
          "base_uri": "https://localhost:8080/"
        }
      },
      "outputs": [
        {
          "output_type": "execute_result",
          "data": {
            "text/plain": [
              "['x0_air traffic controller',\n",
              " 'x0_analyst',\n",
              " 'x0_army officer',\n",
              " 'x0_artist',\n",
              " 'x0_chef',\n",
              " 'x0_civil engineer',\n",
              " 'x0_comedian',\n",
              " 'x0_computer operator',\n",
              " 'x0_dentist',\n",
              " 'x0_design engineer',\n",
              " 'x0_drafter',\n",
              " 'x0_economist',\n",
              " 'x0_firefighter',\n",
              " 'x0_flight attendant',\n",
              " 'x0_graphic designer',\n",
              " 'x0_industrial engineer',\n",
              " 'x0_lawyer',\n",
              " 'x0_librarian',\n",
              " 'x0_magistrate',\n",
              " 'x0_mechanical engineer',\n",
              " 'x0_petroleum engineer',\n",
              " 'x0_physician',\n",
              " 'x0_police officer',\n",
              " 'x0_politician',\n",
              " 'x0_psychologist',\n",
              " 'x0_scientist',\n",
              " 'x0_secretary',\n",
              " 'x0_surveyor',\n",
              " 'x0_technical writer',\n",
              " 'x0_technician',\n",
              " 'x0_web designer',\n",
              " 'x1_married',\n",
              " 'x1_single',\n",
              " 'x2_norentnoown',\n",
              " 'x2_owned',\n",
              " 'x2_rented',\n",
              " 'x3_no',\n",
              " 'x3_yes',\n",
              " 'x4_agartala',\n",
              " 'x4_agra',\n",
              " 'x4_aizawl',\n",
              " 'x4_akola',\n",
              " 'x4_alappuzha',\n",
              " 'x4_allahabad',\n",
              " 'x4_alwar',\n",
              " 'x4_ambala',\n",
              " 'x4_amravati',\n",
              " 'x4_anantapuram',\n",
              " 'x4_arrah',\n",
              " 'x4_asansol',\n",
              " 'x4_aurangabad',\n",
              " 'x4_avadi',\n",
              " 'x4_ballia',\n",
              " 'x4_barasat',\n",
              " 'x4_bathinda',\n",
              " 'x4_begusarai',\n",
              " 'x4_belgaum',\n",
              " 'x4_bellary',\n",
              " 'x4_berhampore',\n",
              " 'x4_bhagalpur',\n",
              " 'x4_bhalswa jahangir pur',\n",
              " 'x4_bhatpara',\n",
              " 'x4_bhilwara',\n",
              " 'x4_bhimavaram',\n",
              " 'x4_bhind',\n",
              " 'x4_bhopal',\n",
              " 'x4_bhusawal',\n",
              " 'x4_bidar',\n",
              " 'x4_bihar sharif',\n",
              " 'x4_bilaspur',\n",
              " 'x4_bokaro',\n",
              " 'x4_bulandshahr',\n",
              " 'x4_burhanpur',\n",
              " 'x4_chandigarhcity',\n",
              " 'x4_chandrapur',\n",
              " 'x4_chapra',\n",
              " 'x4_chennai',\n",
              " 'x4_chinsurah',\n",
              " 'x4_coimbatore',\n",
              " 'x4_cuttack',\n",
              " 'x4_dehradun',\n",
              " 'x4_delhicity',\n",
              " 'x4_deoghar',\n",
              " 'x4_dhule',\n",
              " 'x4_dindigul',\n",
              " 'x4_erode',\n",
              " 'x4_faridabad',\n",
              " 'x4_farrukhabad',\n",
              " 'x4_fatehpur',\n",
              " 'x4_firozabad',\n",
              " 'x4_gandhidham',\n",
              " 'x4_gangtok',\n",
              " 'x4_gaya',\n",
              " 'x4_gorakhpur',\n",
              " 'x4_gudivada',\n",
              " 'x4_gulbarga',\n",
              " 'x4_guna',\n",
              " 'x4_guntakal',\n",
              " 'x4_guntur',\n",
              " 'x4_hajipur',\n",
              " 'x4_hapur',\n",
              " 'x4_hazaribagh',\n",
              " 'x4_hindupur',\n",
              " 'x4_howrah',\n",
              " 'x4_hyderabad',\n",
              " 'x4_imphal',\n",
              " 'x4_indore',\n",
              " 'x4_jabalpur',\n",
              " 'x4_jaipur',\n",
              " 'x4_jalandhar',\n",
              " 'x4_jalgaon',\n",
              " 'x4_jamalpur',\n",
              " 'x4_jammu',\n",
              " 'x4_jamnagar',\n",
              " 'x4_jaunpur',\n",
              " 'x4_jehanabad',\n",
              " 'x4_jhansi',\n",
              " 'x4_jorhat',\n",
              " 'x4_kadapa',\n",
              " 'x4_kakinada',\n",
              " 'x4_kalyandombivli',\n",
              " 'x4_kanpur',\n",
              " 'x4_karawal nagar',\n",
              " 'x4_karnal',\n",
              " 'x4_khammam',\n",
              " 'x4_khandwa',\n",
              " 'x4_kochi',\n",
              " 'x4_kolhapur',\n",
              " 'x4_kolkata',\n",
              " 'x4_korba',\n",
              " 'x4_kottayam',\n",
              " 'x4_kozhikode',\n",
              " 'x4_kumbakonam',\n",
              " 'x4_kurnool',\n",
              " 'x4_latur',\n",
              " 'x4_loni',\n",
              " 'x4_lucknow',\n",
              " 'x4_ludhiana',\n",
              " 'x4_machilipatnam',\n",
              " 'x4_madurai',\n",
              " 'x4_maheshtala',\n",
              " 'x4_mangalore',\n",
              " 'x4_mathura',\n",
              " 'x4_mau',\n",
              " 'x4_mirzapur',\n",
              " 'x4_moradabad',\n",
              " 'x4_morbi',\n",
              " 'x4_morena',\n",
              " 'x4_motihari',\n",
              " 'x4_mumbai',\n",
              " 'x4_munger',\n",
              " 'x4_muzaffarpur',\n",
              " 'x4_mysore',\n",
              " 'x4_nadiad',\n",
              " 'x4_nagaon',\n",
              " 'x4_naihati',\n",
              " 'x4_nandyal',\n",
              " 'x4_navi mumbai',\n",
              " 'x4_nellore',\n",
              " 'x4_new delhi',\n",
              " 'x4_nizamabad',\n",
              " 'x4_north dumdum',\n",
              " 'x4_ongole',\n",
              " 'x4_panchkula',\n",
              " 'x4_panipat',\n",
              " 'x4_panvel',\n",
              " 'x4_patiala',\n",
              " 'x4_patna',\n",
              " 'x4_phagwara',\n",
              " 'x4_proddatur',\n",
              " 'x4_pune',\n",
              " 'x4_purnia',\n",
              " 'x4_raiganj',\n",
              " 'x4_raipur',\n",
              " 'x4_rajahmundry',\n",
              " 'x4_rajpur sonarpur',\n",
              " 'x4_rampur',\n",
              " 'x4_ratlam',\n",
              " 'x4_rewa',\n",
              " 'x4_rohtak',\n",
              " 'x4_saharanpur',\n",
              " 'x4_sambalpur',\n",
              " 'x4_sambhal',\n",
              " 'x4_secunderabad',\n",
              " 'x4_serampore',\n",
              " 'x4_shimla',\n",
              " 'x4_shimoga',\n",
              " 'x4_sikar',\n",
              " 'x4_silchar',\n",
              " 'x4_siwan',\n",
              " 'x4_solapur',\n",
              " 'x4_sonipat',\n",
              " 'x4_south dumdum',\n",
              " 'x4_srikakulam',\n",
              " 'x4_srinagar',\n",
              " 'x4_sultan pur majra',\n",
              " 'x4_surat',\n",
              " 'x4_surendranagar dudhrej',\n",
              " 'x4_suryapet',\n",
              " 'x4_tadepalligudem',\n",
              " 'x4_tadipatri',\n",
              " 'x4_tenali',\n",
              " 'x4_tezpur',\n",
              " 'x4_thane',\n",
              " 'x4_thanjavur',\n",
              " 'x4_thrissur',\n",
              " 'x4_tinsukia',\n",
              " 'x4_tiruchirappalli',\n",
              " 'x4_tirunelveli',\n",
              " 'x4_tiruppur',\n",
              " 'x4_tumkur',\n",
              " 'x4_ujjain',\n",
              " 'x4_ulhasnagar',\n",
              " 'x4_varanasi',\n",
              " 'x4_vasaivirar',\n",
              " 'x4_vellore',\n",
              " 'x4_vijayanagaram',\n",
              " 'x4_vijayawada',\n",
              " 'x4_visakhapatnam',\n",
              " 'x4_yamunanagar',\n",
              " 'x5_andhra pradesh',\n",
              " 'x5_bihar',\n",
              " 'x5_chandigarh',\n",
              " 'x5_chhattisgarh',\n",
              " 'x5_haryana',\n",
              " 'x5_himachal pradesh',\n",
              " 'x5_jammu and kashmir',\n",
              " 'x5_jharkhand',\n",
              " 'x5_karnataka',\n",
              " 'x5_kerala',\n",
              " 'x5_madhya pradesh',\n",
              " 'x5_maharashtra',\n",
              " 'x5_manipur',\n",
              " 'x5_mizoram',\n",
              " 'x5_odisha',\n",
              " 'x5_punjab',\n",
              " 'x5_sikkim',\n",
              " 'x5_telangana',\n",
              " 'x5_tripura',\n",
              " 'x5_uttar pradesh',\n",
              " 'income',\n",
              " 'age',\n",
              " 'experience',\n",
              " 'current_job_years',\n",
              " 'current_house_years']"
            ]
          },
          "metadata": {},
          "execution_count": 31
        }
      ],
      "source": [
        "sel_cols"
      ]
    },
    {
      "cell_type": "code",
      "execution_count": null,
      "metadata": {
        "id": "Ckc4I1uF5OsL"
      },
      "outputs": [],
      "source": [
        "###to understand not to run"
      ]
    },
    {
      "cell_type": "code",
      "execution_count": null,
      "metadata": {
        "id": "PMnZGv1L5OsM"
      },
      "outputs": [],
      "source": [
        "def pik_now(ob_name):\n",
        "    fl_out1 = ob_name\n",
        "    pickling_on = open(fl_out1,\"wb\")\n",
        "    pickle.dump(eval(ob_name), pickling_on)\n",
        "    pickling_on.close()\n",
        "    \n",
        "    return"
      ]
    },
    {
      "cell_type": "code",
      "execution_count": null,
      "metadata": {
        "id": "8O_ERsrK5OsM"
      },
      "outputs": [],
      "source": [
        "list_objs = [\"df_all_train2\",\"y_train1\",\"df_all_test2\",\"y_test1\"]\n",
        "\n",
        "for i in list_objs:\n",
        "     pik_now(i)"
      ]
    },
    {
      "cell_type": "code",
      "source": [
        ""
      ],
      "metadata": {
        "id": "JLIZ9hp3oxsA"
      },
      "execution_count": null,
      "outputs": []
    }
  ],
  "metadata": {
    "colab": {
      "collapsed_sections": [],
      "name": "TreesEnsembles_part0.ipynb",
      "provenance": []
    },
    "kernelspec": {
      "display_name": "Python 3",
      "language": "python",
      "name": "python3"
    },
    "language_info": {
      "codemirror_mode": {
        "name": "ipython",
        "version": 3
      },
      "file_extension": ".py",
      "mimetype": "text/x-python",
      "name": "python",
      "nbconvert_exporter": "python",
      "pygments_lexer": "ipython3",
      "version": "3.6.5"
    }
  },
  "nbformat": 4,
  "nbformat_minor": 0
}