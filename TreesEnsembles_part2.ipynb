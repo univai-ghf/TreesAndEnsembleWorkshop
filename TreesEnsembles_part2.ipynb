{
  "cells": [
    {
      "cell_type": "markdown",
      "metadata": {
        "id": "42KXDeQn6v0C"
      },
      "source": [
        "# Data inputs and Display Libraries"
      ]
    },
    {
      "cell_type": "code",
      "execution_count": 1,
      "metadata": {
        "id": "o9_UXB_06v0L"
      },
      "outputs": [],
      "source": [
        "import pandas as pd\n",
        "import numpy as np\n",
        "import pickle\n",
        "\n",
        "pd.set_option('display.float_format', lambda x: '%.5f' % x)\n",
        "from IPython.core.interactiveshell import InteractiveShell\n",
        "InteractiveShell.ast_node_interactivity = 'all'"
      ]
    },
    {
      "cell_type": "markdown",
      "metadata": {
        "id": "qiuawk-z6v0R"
      },
      "source": [
        "# Modelling Libraries"
      ]
    },
    {
      "cell_type": "code",
      "execution_count": 2,
      "metadata": {
        "id": "aa9mody_6v0S"
      },
      "outputs": [],
      "source": [
        "from sklearn.ensemble import BaggingClassifier\n",
        "from sklearn.ensemble import RandomForestClassifier\n",
        "from sklearn import model_selection\n",
        "\n",
        "from xgboost import XGBClassifier\n",
        "import pickle\n",
        "from sklearn.model_selection import GridSearchCV"
      ]
    },
    {
      "cell_type": "markdown",
      "metadata": {
        "id": "LYQVTEsY6v0T"
      },
      "source": [
        "# Metrics Libraries\n"
      ]
    },
    {
      "cell_type": "code",
      "execution_count": 3,
      "metadata": {
        "id": "a73tPUb96v0U"
      },
      "outputs": [],
      "source": [
        "from sklearn.metrics import accuracy_score\n",
        "from sklearn.metrics import confusion_matrix,ConfusionMatrixDisplay\n",
        "from sklearn.metrics import roc_curve\n",
        "from sklearn.metrics import auc\n",
        "from sklearn.metrics import f1_score\n",
        "from matplotlib import pyplot\n",
        "import matplotlib.pyplot as plt\n",
        "from sklearn.metrics import average_precision_score\n",
        "from sklearn.metrics import precision_recall_curve"
      ]
    },
    {
      "cell_type": "code",
      "execution_count": 4,
      "metadata": {
        "colab": {
          "base_uri": "https://localhost:8080/"
        },
        "id": "LOcNNPU17Cte",
        "outputId": "db21d228-71b9-4cd9-9429-c312c5f18238"
      },
      "outputs": [
        {
          "output_type": "stream",
          "name": "stdout",
          "text": [
            "--2022-03-17 04:28:37--  https://github.com/univai-ghf/ghfmedia/raw/main/data/Trees_and_Ensembles/datasets.rar\n",
            "Resolving github.com (github.com)... 140.82.112.4\n",
            "Connecting to github.com (github.com)|140.82.112.4|:443... connected.\n",
            "HTTP request sent, awaiting response... 302 Found\n",
            "Location: https://raw.githubusercontent.com/univai-ghf/ghfmedia/main/data/Trees_and_Ensembles/datasets.rar [following]\n",
            "--2022-03-17 04:28:37--  https://raw.githubusercontent.com/univai-ghf/ghfmedia/main/data/Trees_and_Ensembles/datasets.rar\n",
            "Resolving raw.githubusercontent.com (raw.githubusercontent.com)... 185.199.111.133, 185.199.110.133, 185.199.109.133, ...\n",
            "Connecting to raw.githubusercontent.com (raw.githubusercontent.com)|185.199.111.133|:443... connected.\n",
            "HTTP request sent, awaiting response... 200 OK\n",
            "Length: 3508143 (3.3M) [application/octet-stream]\n",
            "Saving to: ‘datasets.rar’\n",
            "\n",
            "datasets.rar        100%[===================>]   3.34M  --.-KB/s    in 0.1s    \n",
            "\n",
            "2022-03-17 04:28:38 (26.4 MB/s) - ‘datasets.rar’ saved [3508143/3508143]\n",
            "\n"
          ]
        }
      ],
      "source": [
        "# Acessing the data\n",
        "!wget \"https://github.com/univai-ghf/ghfmedia/raw/main/data/Trees_and_Ensembles/datasets.rar\" "
      ]
    },
    {
      "cell_type": "code",
      "execution_count": 5,
      "metadata": {
        "colab": {
          "base_uri": "https://localhost:8080/"
        },
        "id": "XuWhARFE7Jem",
        "outputId": "f2cac33a-f500-431e-f6ea-17ef5e4385fa"
      },
      "outputs": [
        {
          "output_type": "stream",
          "name": "stdout",
          "text": [
            "\n",
            "UNRAR 5.50 freeware      Copyright (c) 1993-2017 Alexander Roshal\n",
            "\n",
            "\n",
            "Extracting from ./datasets.rar\n",
            "\n",
            "Extracting  workshop_trees/y_train1                                      \b\b\b\b  0%\b\b\b\b\b  OK \n",
            "Extracting  workshop_trees/df_all_test2                                  \b\b\b\b  1%\b\b\b\b  2%\b\b\b\b  3%\b\b\b\b  4%\b\b\b\b  5%\b\b\b\b  6%\b\b\b\b  7%\b\b\b\b  8%\b\b\b\b  9%\b\b\b\b 10%\b\b\b\b 11%\b\b\b\b 12%\b\b\b\b 13%\b\b\b\b 14%\b\b\b\b 15%\b\b\b\b 16%\b\b\b\b 17%\b\b\b\b 18%\b\b\b\b 19%\b\b\b\b 20%\b\b\b\b 21%\b\b\b\b 22%\b\b\b\b 23%\b\b\b\b 24%\b\b\b\b 25%\b\b\b\b 26%\b\b\b\b 27%\b\b\b\b 28%\b\b\b\b 29%\b\b\b\b 30%\b\b\b\b 31%\b\b\b\b 32%\b\b\b\b 33%\b\b\b\b\b  OK \n",
            "Extracting  workshop_trees/df_all_train2                                 \b\b\b\b 34%\b\b\b\b 35%\b\b\b\b 36%\b\b\b\b 37%\b\b\b\b 38%\b\b\b\b 39%\b\b\b\b 40%\b\b\b\b 41%\b\b\b\b 42%\b\b\b\b 43%\b\b\b\b 44%\b\b\b\b 45%\b\b\b\b 46%\b\b\b\b 47%\b\b\b\b 48%\b\b\b\b 49%\b\b\b\b 50%\b\b\b\b 51%\b\b\b\b 52%\b\b\b\b 53%\b\b\b\b 54%\b\b\b\b 55%\b\b\b\b 56%\b\b\b\b 57%\b\b\b\b 58%\b\b\b\b 59%\b\b\b\b 60%\b\b\b\b 61%\b\b\b\b 62%\b\b\b\b 63%\b\b\b\b 64%\b\b\b\b 65%\b\b\b\b 66%\b\b\b\b 67%\b\b\b\b 68%\b\b\b\b 69%\b\b\b\b 70%\b\b\b\b 71%\b\b\b\b 72%\b\b\b\b 73%\b\b\b\b 74%\b\b\b\b 75%\b\b\b\b 76%\b\b\b\b 77%\b\b\b\b 78%\b\b\b\b 79%\b\b\b\b 80%\b\b\b\b 81%\b\b\b\b 82%\b\b\b\b 83%\b\b\b\b 84%\b\b\b\b 85%\b\b\b\b 86%\b\b\b\b 87%\b\b\b\b 88%\b\b\b\b 89%\b\b\b\b 90%\b\b\b\b 91%\b\b\b\b 92%\b\b\b\b 93%\b\b\b\b 94%\b\b\b\b 95%\b\b\b\b 96%\b\b\b\b 97%\b\b\b\b 98%\b\b\b\b 99%\b\b\b\b\b  OK \n",
            "Extracting  workshop_trees/sel_cols                                      \b\b\b\b 99%\b\b\b\b\b  OK \n",
            "Extracting  workshop_trees/y_test1                                       \b\b\b\b 99%\b\b\b\b\b  OK \n",
            "All OK\n"
          ]
        }
      ],
      "source": [
        "# Extracting the dataset\n",
        "!mkdir './workshop_trees'\n",
        "!unrar e './datasets.rar' 'workshop_trees'"
      ]
    },
    {
      "cell_type": "code",
      "execution_count": 6,
      "metadata": {
        "id": "qNCazT426v0W"
      },
      "outputs": [],
      "source": [
        "fl_out = \"./workshop_trees\"\n",
        "def pick_in(obj_name):\n",
        "    fl_out1 = fl_out + \"/\" + obj_name\n",
        "    pickle_in = open(fl_out1,\"rb\")\n",
        "    mod1= pickle.load(pickle_in)\n",
        "    \n",
        "    return mod1"
      ]
    },
    {
      "cell_type": "code",
      "execution_count": 7,
      "metadata": {
        "id": "N45LpgW76v0Y"
      },
      "outputs": [],
      "source": [
        "list_objs = [\"df_all_train2\",\"y_train1\",\"df_all_test2\",\"y_test1\"]\n",
        "\n",
        "for i in list_objs:\n",
        "     globals()[i]= pick_in(i)"
      ]
    },
    {
      "cell_type": "code",
      "execution_count": 8,
      "metadata": {
        "id": "a8Ma_JY06v0a"
      },
      "outputs": [],
      "source": [
        "def auc1_scr(mod1,test_set,actual1):\n",
        "    mod = eval(mod1)\n",
        "    pred1=mod.predict_proba(test_set)[:,1]\n",
        "    fpr, tpr, thresholds = roc_curve(actual1, pred1)\n",
        "    auc1 = auc(fpr, tpr)\n",
        "    \n",
        "    return auc1"
      ]
    },
    {
      "cell_type": "code",
      "execution_count": 9,
      "metadata": {
        "colab": {
          "base_uri": "https://localhost:8080/"
        },
        "id": "Pu7Nw94x6v0b",
        "outputId": "948151db-8fbc-4d20-beff-4a225661d805"
      },
      "outputs": [
        {
          "output_type": "execute_result",
          "data": {
            "text/plain": [
              "BaggingClassifier(random_state=0)"
            ]
          },
          "metadata": {},
          "execution_count": 9
        }
      ],
      "source": [
        "###bagging classifier\n",
        "\n",
        "bc = BaggingClassifier(random_state=0)\n",
        "bc.fit(df_all_train2,y_train1)"
      ]
    },
    {
      "cell_type": "code",
      "execution_count": 10,
      "metadata": {
        "id": "RZTFrSK96v0f"
      },
      "outputs": [],
      "source": [
        "auc1_te = auc1_scr(\"bc\",df_all_test2,y_test1)\n",
        "auc1_tr = auc1_scr(\"bc\",df_all_train2,y_train1)"
      ]
    },
    {
      "cell_type": "code",
      "execution_count": 11,
      "metadata": {
        "colab": {
          "base_uri": "https://localhost:8080/"
        },
        "id": "TtHkMLTU6v0g",
        "outputId": "4f9c77a0-11c8-4128-e917-ac2d51ee19b7"
      },
      "outputs": [
        {
          "output_type": "execute_result",
          "data": {
            "text/plain": [
              "(0.9421740207850983, 0.9819321235084637)"
            ]
          },
          "metadata": {},
          "execution_count": 11
        }
      ],
      "source": [
        "auc1_te,auc1_tr"
      ]
    },
    {
      "cell_type": "code",
      "execution_count": 12,
      "metadata": {
        "colab": {
          "base_uri": "https://localhost:8080/"
        },
        "id": "36eh1l2z6v0h",
        "outputId": "f8bf3fb6-09f2-4210-f200-b24959a2f7d5"
      },
      "outputs": [
        {
          "output_type": "stream",
          "name": "stdout",
          "text": [
            "0.9379505474051072\n"
          ]
        }
      ],
      "source": [
        "kfold = model_selection.KFold(n_splits = 3)\n",
        "  \n",
        "results = model_selection.cross_val_score(bc, df_all_test2,y_test1, \n",
        "                                          cv = kfold,scoring='roc_auc',n_jobs=-1)\n",
        "print (results.mean())"
      ]
    },
    {
      "cell_type": "code",
      "execution_count": 13,
      "metadata": {
        "colab": {
          "base_uri": "https://localhost:8080/"
        },
        "id": "ZwRNonqU6v0i",
        "outputId": "d217e79d-084c-4805-b4f5-118919c1db41"
      },
      "outputs": [
        {
          "output_type": "execute_result",
          "data": {
            "text/plain": [
              "RandomForestClassifier(random_state=0)"
            ]
          },
          "metadata": {},
          "execution_count": 13
        }
      ],
      "source": [
        "###random forest\n",
        "rf = RandomForestClassifier( random_state=0)\n",
        "rf.fit(df_all_train2,y_train1)"
      ]
    },
    {
      "cell_type": "code",
      "execution_count": 14,
      "metadata": {
        "id": "jG9v-0v_6v0j"
      },
      "outputs": [],
      "source": [
        "auc1_te = auc1_scr(\"rf\",df_all_test2,y_test1)\n",
        "auc1_tr = auc1_scr(\"rf\",df_all_train2,y_train1)"
      ]
    },
    {
      "cell_type": "code",
      "execution_count": 15,
      "metadata": {
        "colab": {
          "base_uri": "https://localhost:8080/"
        },
        "id": "iZmXmL5-6v0k",
        "outputId": "bc0ffb72-6c5c-4901-f239-a41b176e9f0c"
      },
      "outputs": [
        {
          "output_type": "execute_result",
          "data": {
            "text/plain": [
              "(0.9606192393892811, 0.9823078290676196)"
            ]
          },
          "metadata": {},
          "execution_count": 15
        }
      ],
      "source": [
        "auc1_te,auc1_tr"
      ]
    },
    {
      "cell_type": "code",
      "execution_count": 16,
      "metadata": {
        "colab": {
          "base_uri": "https://localhost:8080/"
        },
        "id": "C0CRgUES6v0l",
        "outputId": "6e149be2-7fb4-49ce-b640-ff30dd761ea2"
      },
      "outputs": [
        {
          "output_type": "execute_result",
          "data": {
            "text/plain": [
              "0.9581447877360906"
            ]
          },
          "metadata": {},
          "execution_count": 16
        }
      ],
      "source": [
        "kfold = model_selection.KFold(n_splits = 3)\n",
        "  \n",
        "results = model_selection.cross_val_score(rf, df_all_test2,y_test1, \n",
        "                                          cv = kfold,scoring='roc_auc',n_jobs=-1)\n",
        "results.mean()"
      ]
    },
    {
      "cell_type": "markdown",
      "metadata": {
        "id": "Efikt0MY6v0n"
      },
      "source": [
        "# Grid Search"
      ]
    },
    {
      "cell_type": "code",
      "execution_count": 17,
      "metadata": {
        "colab": {
          "base_uri": "https://localhost:8080/"
        },
        "id": "WkukSZ1X6v0n",
        "outputId": "365fc5c8-1f55-4840-b569-d77b963d29ac"
      },
      "outputs": [
        {
          "output_type": "stream",
          "name": "stdout",
          "text": [
            "Fitting 2 folds for each of 16 candidates, totalling 32 fits\n"
          ]
        },
        {
          "output_type": "execute_result",
          "data": {
            "text/plain": [
              "GridSearchCV(cv=2, estimator=RandomForestClassifier(random_state=42), n_jobs=5,\n",
              "             param_grid={'criterion': ['gini', 'entropy'],\n",
              "                         'max_features': [0.2, 0.3], 'max_samples': [0.2, 0.5],\n",
              "                         'n_estimators': [50, 100]},\n",
              "             scoring='roc_auc', verbose=1)"
            ]
          },
          "metadata": {},
          "execution_count": 17
        }
      ],
      "source": [
        "rf_grid= RandomForestClassifier(random_state=42)\n",
        "\n",
        "params = {\n",
        "    'n_estimators': [50,100],\n",
        "    'criterion': [\"gini\", \"entropy\"],\n",
        "    'max_samples': [0.2,0.5],\n",
        "    'max_features':[0.2,0.3]\n",
        "    \n",
        "}\n",
        "\n",
        "grid_search = GridSearchCV(estimator=rf_grid, \n",
        "                           param_grid=params, \n",
        "                           cv=2, n_jobs=5, verbose=1, scoring = \"roc_auc\")\n",
        "\n",
        "\n",
        "grid_search.fit(df_all_test2,y_test1)"
      ]
    },
    {
      "cell_type": "code",
      "execution_count": 18,
      "metadata": {
        "id": "l-nNt5B26v0p",
        "colab": {
          "base_uri": "https://localhost:8080/",
          "height": 530
        },
        "outputId": "cce1b163-b837-4e80-f010-c0a38a31aaf3"
      },
      "outputs": [
        {
          "output_type": "execute_result",
          "data": {
            "text/plain": [
              "   mean_fit_time  std_fit_time  mean_score_time  std_score_time  \\\n",
              "0       33.74848       3.99911          3.45765         0.01657   \n",
              "1       56.74678       1.14408          6.87427         0.10086   \n",
              "2       86.52844      11.37203          3.78584         0.06435   \n",
              "3      155.72692       0.06561          7.48239         0.15711   \n",
              "4       41.56309       1.35093          3.46061         0.05105   \n",
              "\n",
              "  param_criterion param_max_features param_max_samples param_n_estimators  \\\n",
              "0            gini            0.20000           0.20000                 50   \n",
              "1            gini            0.20000           0.20000                100   \n",
              "2            gini            0.20000           0.50000                 50   \n",
              "3            gini            0.20000           0.50000                100   \n",
              "4            gini            0.30000           0.20000                 50   \n",
              "\n",
              "                                              params  split0_test_score  \\\n",
              "0  {'criterion': 'gini', 'max_features': 0.2, 'ma...            0.93319   \n",
              "1  {'criterion': 'gini', 'max_features': 0.2, 'ma...            0.93772   \n",
              "2  {'criterion': 'gini', 'max_features': 0.2, 'ma...            0.95146   \n",
              "3  {'criterion': 'gini', 'max_features': 0.2, 'ma...            0.95335   \n",
              "4  {'criterion': 'gini', 'max_features': 0.3, 'ma...            0.93175   \n",
              "\n",
              "   split1_test_score  mean_test_score  std_test_score  rank_test_score  \n",
              "0            0.93512          0.93416         0.00097               15  \n",
              "1            0.93973          0.93873         0.00101               11  \n",
              "2            0.95314          0.95230         0.00084                7  \n",
              "3            0.95462          0.95399         0.00064                3  \n",
              "4            0.93379          0.93277         0.00102               16  "
            ],
            "text/html": [
              "\n",
              "  <div id=\"df-0d813f6d-9e22-41d9-a53c-4526c2ddf5ff\">\n",
              "    <div class=\"colab-df-container\">\n",
              "      <div>\n",
              "<style scoped>\n",
              "    .dataframe tbody tr th:only-of-type {\n",
              "        vertical-align: middle;\n",
              "    }\n",
              "\n",
              "    .dataframe tbody tr th {\n",
              "        vertical-align: top;\n",
              "    }\n",
              "\n",
              "    .dataframe thead th {\n",
              "        text-align: right;\n",
              "    }\n",
              "</style>\n",
              "<table border=\"1\" class=\"dataframe\">\n",
              "  <thead>\n",
              "    <tr style=\"text-align: right;\">\n",
              "      <th></th>\n",
              "      <th>mean_fit_time</th>\n",
              "      <th>std_fit_time</th>\n",
              "      <th>mean_score_time</th>\n",
              "      <th>std_score_time</th>\n",
              "      <th>param_criterion</th>\n",
              "      <th>param_max_features</th>\n",
              "      <th>param_max_samples</th>\n",
              "      <th>param_n_estimators</th>\n",
              "      <th>params</th>\n",
              "      <th>split0_test_score</th>\n",
              "      <th>split1_test_score</th>\n",
              "      <th>mean_test_score</th>\n",
              "      <th>std_test_score</th>\n",
              "      <th>rank_test_score</th>\n",
              "    </tr>\n",
              "  </thead>\n",
              "  <tbody>\n",
              "    <tr>\n",
              "      <th>0</th>\n",
              "      <td>33.74848</td>\n",
              "      <td>3.99911</td>\n",
              "      <td>3.45765</td>\n",
              "      <td>0.01657</td>\n",
              "      <td>gini</td>\n",
              "      <td>0.20000</td>\n",
              "      <td>0.20000</td>\n",
              "      <td>50</td>\n",
              "      <td>{'criterion': 'gini', 'max_features': 0.2, 'ma...</td>\n",
              "      <td>0.93319</td>\n",
              "      <td>0.93512</td>\n",
              "      <td>0.93416</td>\n",
              "      <td>0.00097</td>\n",
              "      <td>15</td>\n",
              "    </tr>\n",
              "    <tr>\n",
              "      <th>1</th>\n",
              "      <td>56.74678</td>\n",
              "      <td>1.14408</td>\n",
              "      <td>6.87427</td>\n",
              "      <td>0.10086</td>\n",
              "      <td>gini</td>\n",
              "      <td>0.20000</td>\n",
              "      <td>0.20000</td>\n",
              "      <td>100</td>\n",
              "      <td>{'criterion': 'gini', 'max_features': 0.2, 'ma...</td>\n",
              "      <td>0.93772</td>\n",
              "      <td>0.93973</td>\n",
              "      <td>0.93873</td>\n",
              "      <td>0.00101</td>\n",
              "      <td>11</td>\n",
              "    </tr>\n",
              "    <tr>\n",
              "      <th>2</th>\n",
              "      <td>86.52844</td>\n",
              "      <td>11.37203</td>\n",
              "      <td>3.78584</td>\n",
              "      <td>0.06435</td>\n",
              "      <td>gini</td>\n",
              "      <td>0.20000</td>\n",
              "      <td>0.50000</td>\n",
              "      <td>50</td>\n",
              "      <td>{'criterion': 'gini', 'max_features': 0.2, 'ma...</td>\n",
              "      <td>0.95146</td>\n",
              "      <td>0.95314</td>\n",
              "      <td>0.95230</td>\n",
              "      <td>0.00084</td>\n",
              "      <td>7</td>\n",
              "    </tr>\n",
              "    <tr>\n",
              "      <th>3</th>\n",
              "      <td>155.72692</td>\n",
              "      <td>0.06561</td>\n",
              "      <td>7.48239</td>\n",
              "      <td>0.15711</td>\n",
              "      <td>gini</td>\n",
              "      <td>0.20000</td>\n",
              "      <td>0.50000</td>\n",
              "      <td>100</td>\n",
              "      <td>{'criterion': 'gini', 'max_features': 0.2, 'ma...</td>\n",
              "      <td>0.95335</td>\n",
              "      <td>0.95462</td>\n",
              "      <td>0.95399</td>\n",
              "      <td>0.00064</td>\n",
              "      <td>3</td>\n",
              "    </tr>\n",
              "    <tr>\n",
              "      <th>4</th>\n",
              "      <td>41.56309</td>\n",
              "      <td>1.35093</td>\n",
              "      <td>3.46061</td>\n",
              "      <td>0.05105</td>\n",
              "      <td>gini</td>\n",
              "      <td>0.30000</td>\n",
              "      <td>0.20000</td>\n",
              "      <td>50</td>\n",
              "      <td>{'criterion': 'gini', 'max_features': 0.3, 'ma...</td>\n",
              "      <td>0.93175</td>\n",
              "      <td>0.93379</td>\n",
              "      <td>0.93277</td>\n",
              "      <td>0.00102</td>\n",
              "      <td>16</td>\n",
              "    </tr>\n",
              "  </tbody>\n",
              "</table>\n",
              "</div>\n",
              "      <button class=\"colab-df-convert\" onclick=\"convertToInteractive('df-0d813f6d-9e22-41d9-a53c-4526c2ddf5ff')\"\n",
              "              title=\"Convert this dataframe to an interactive table.\"\n",
              "              style=\"display:none;\">\n",
              "        \n",
              "  <svg xmlns=\"http://www.w3.org/2000/svg\" height=\"24px\"viewBox=\"0 0 24 24\"\n",
              "       width=\"24px\">\n",
              "    <path d=\"M0 0h24v24H0V0z\" fill=\"none\"/>\n",
              "    <path d=\"M18.56 5.44l.94 2.06.94-2.06 2.06-.94-2.06-.94-.94-2.06-.94 2.06-2.06.94zm-11 1L8.5 8.5l.94-2.06 2.06-.94-2.06-.94L8.5 2.5l-.94 2.06-2.06.94zm10 10l.94 2.06.94-2.06 2.06-.94-2.06-.94-.94-2.06-.94 2.06-2.06.94z\"/><path d=\"M17.41 7.96l-1.37-1.37c-.4-.4-.92-.59-1.43-.59-.52 0-1.04.2-1.43.59L10.3 9.45l-7.72 7.72c-.78.78-.78 2.05 0 2.83L4 21.41c.39.39.9.59 1.41.59.51 0 1.02-.2 1.41-.59l7.78-7.78 2.81-2.81c.8-.78.8-2.07 0-2.86zM5.41 20L4 18.59l7.72-7.72 1.47 1.35L5.41 20z\"/>\n",
              "  </svg>\n",
              "      </button>\n",
              "      \n",
              "  <style>\n",
              "    .colab-df-container {\n",
              "      display:flex;\n",
              "      flex-wrap:wrap;\n",
              "      gap: 12px;\n",
              "    }\n",
              "\n",
              "    .colab-df-convert {\n",
              "      background-color: #E8F0FE;\n",
              "      border: none;\n",
              "      border-radius: 50%;\n",
              "      cursor: pointer;\n",
              "      display: none;\n",
              "      fill: #1967D2;\n",
              "      height: 32px;\n",
              "      padding: 0 0 0 0;\n",
              "      width: 32px;\n",
              "    }\n",
              "\n",
              "    .colab-df-convert:hover {\n",
              "      background-color: #E2EBFA;\n",
              "      box-shadow: 0px 1px 2px rgba(60, 64, 67, 0.3), 0px 1px 3px 1px rgba(60, 64, 67, 0.15);\n",
              "      fill: #174EA6;\n",
              "    }\n",
              "\n",
              "    [theme=dark] .colab-df-convert {\n",
              "      background-color: #3B4455;\n",
              "      fill: #D2E3FC;\n",
              "    }\n",
              "\n",
              "    [theme=dark] .colab-df-convert:hover {\n",
              "      background-color: #434B5C;\n",
              "      box-shadow: 0px 1px 3px 1px rgba(0, 0, 0, 0.15);\n",
              "      filter: drop-shadow(0px 1px 2px rgba(0, 0, 0, 0.3));\n",
              "      fill: #FFFFFF;\n",
              "    }\n",
              "  </style>\n",
              "\n",
              "      <script>\n",
              "        const buttonEl =\n",
              "          document.querySelector('#df-0d813f6d-9e22-41d9-a53c-4526c2ddf5ff button.colab-df-convert');\n",
              "        buttonEl.style.display =\n",
              "          google.colab.kernel.accessAllowed ? 'block' : 'none';\n",
              "\n",
              "        async function convertToInteractive(key) {\n",
              "          const element = document.querySelector('#df-0d813f6d-9e22-41d9-a53c-4526c2ddf5ff');\n",
              "          const dataTable =\n",
              "            await google.colab.kernel.invokeFunction('convertToInteractive',\n",
              "                                                     [key], {});\n",
              "          if (!dataTable) return;\n",
              "\n",
              "          const docLinkHtml = 'Like what you see? Visit the ' +\n",
              "            '<a target=\"_blank\" href=https://colab.research.google.com/notebooks/data_table.ipynb>data table notebook</a>'\n",
              "            + ' to learn more about interactive tables.';\n",
              "          element.innerHTML = '';\n",
              "          dataTable['output_type'] = 'display_data';\n",
              "          await google.colab.output.renderOutput(dataTable, element);\n",
              "          const docLink = document.createElement('div');\n",
              "          docLink.innerHTML = docLinkHtml;\n",
              "          element.appendChild(docLink);\n",
              "        }\n",
              "      </script>\n",
              "    </div>\n",
              "  </div>\n",
              "  "
            ]
          },
          "metadata": {},
          "execution_count": 18
        }
      ],
      "source": [
        "score_df = pd.DataFrame(grid_search.cv_results_)\n",
        "score_df.head()"
      ]
    },
    {
      "cell_type": "code",
      "execution_count": 19,
      "metadata": {
        "id": "HzrO78G96v0p",
        "colab": {
          "base_uri": "https://localhost:8080/",
          "height": 530
        },
        "outputId": "91854212-2b83-420c-dfb3-cf5964544750"
      },
      "outputs": [
        {
          "output_type": "execute_result",
          "data": {
            "text/plain": [
              "    mean_fit_time  std_fit_time  mean_score_time  std_score_time  \\\n",
              "11      161.41780       8.42783          7.31812         0.28003   \n",
              "15      110.47519       6.30921          2.40425         0.34359   \n",
              "3       155.72692       0.06561          7.48239         0.15711   \n",
              "7       222.35422       9.66014          7.71886         0.14716   \n",
              "10       91.69108      14.20568          3.86510         0.00828   \n",
              "\n",
              "   param_criterion param_max_features param_max_samples param_n_estimators  \\\n",
              "11         entropy            0.20000           0.50000                100   \n",
              "15         entropy            0.30000           0.50000                100   \n",
              "3             gini            0.20000           0.50000                100   \n",
              "7             gini            0.30000           0.50000                100   \n",
              "10         entropy            0.20000           0.50000                 50   \n",
              "\n",
              "                                               params  split0_test_score  \\\n",
              "11  {'criterion': 'entropy', 'max_features': 0.2, ...            0.95478   \n",
              "15  {'criterion': 'entropy', 'max_features': 0.3, ...            0.95378   \n",
              "3   {'criterion': 'gini', 'max_features': 0.2, 'ma...            0.95335   \n",
              "7   {'criterion': 'gini', 'max_features': 0.3, 'ma...            0.95300   \n",
              "10  {'criterion': 'entropy', 'max_features': 0.2, ...            0.95247   \n",
              "\n",
              "    split1_test_score  mean_test_score  std_test_score  rank_test_score  \n",
              "11            0.95549          0.95513         0.00035                1  \n",
              "15            0.95472          0.95425         0.00047                2  \n",
              "3             0.95462          0.95399         0.00064                3  \n",
              "7             0.95413          0.95357         0.00056                4  \n",
              "10            0.95352          0.95300         0.00053                5  "
            ],
            "text/html": [
              "\n",
              "  <div id=\"df-98d3b39d-ab54-48ae-a5b0-25ad2224f4de\">\n",
              "    <div class=\"colab-df-container\">\n",
              "      <div>\n",
              "<style scoped>\n",
              "    .dataframe tbody tr th:only-of-type {\n",
              "        vertical-align: middle;\n",
              "    }\n",
              "\n",
              "    .dataframe tbody tr th {\n",
              "        vertical-align: top;\n",
              "    }\n",
              "\n",
              "    .dataframe thead th {\n",
              "        text-align: right;\n",
              "    }\n",
              "</style>\n",
              "<table border=\"1\" class=\"dataframe\">\n",
              "  <thead>\n",
              "    <tr style=\"text-align: right;\">\n",
              "      <th></th>\n",
              "      <th>mean_fit_time</th>\n",
              "      <th>std_fit_time</th>\n",
              "      <th>mean_score_time</th>\n",
              "      <th>std_score_time</th>\n",
              "      <th>param_criterion</th>\n",
              "      <th>param_max_features</th>\n",
              "      <th>param_max_samples</th>\n",
              "      <th>param_n_estimators</th>\n",
              "      <th>params</th>\n",
              "      <th>split0_test_score</th>\n",
              "      <th>split1_test_score</th>\n",
              "      <th>mean_test_score</th>\n",
              "      <th>std_test_score</th>\n",
              "      <th>rank_test_score</th>\n",
              "    </tr>\n",
              "  </thead>\n",
              "  <tbody>\n",
              "    <tr>\n",
              "      <th>11</th>\n",
              "      <td>161.41780</td>\n",
              "      <td>8.42783</td>\n",
              "      <td>7.31812</td>\n",
              "      <td>0.28003</td>\n",
              "      <td>entropy</td>\n",
              "      <td>0.20000</td>\n",
              "      <td>0.50000</td>\n",
              "      <td>100</td>\n",
              "      <td>{'criterion': 'entropy', 'max_features': 0.2, ...</td>\n",
              "      <td>0.95478</td>\n",
              "      <td>0.95549</td>\n",
              "      <td>0.95513</td>\n",
              "      <td>0.00035</td>\n",
              "      <td>1</td>\n",
              "    </tr>\n",
              "    <tr>\n",
              "      <th>15</th>\n",
              "      <td>110.47519</td>\n",
              "      <td>6.30921</td>\n",
              "      <td>2.40425</td>\n",
              "      <td>0.34359</td>\n",
              "      <td>entropy</td>\n",
              "      <td>0.30000</td>\n",
              "      <td>0.50000</td>\n",
              "      <td>100</td>\n",
              "      <td>{'criterion': 'entropy', 'max_features': 0.3, ...</td>\n",
              "      <td>0.95378</td>\n",
              "      <td>0.95472</td>\n",
              "      <td>0.95425</td>\n",
              "      <td>0.00047</td>\n",
              "      <td>2</td>\n",
              "    </tr>\n",
              "    <tr>\n",
              "      <th>3</th>\n",
              "      <td>155.72692</td>\n",
              "      <td>0.06561</td>\n",
              "      <td>7.48239</td>\n",
              "      <td>0.15711</td>\n",
              "      <td>gini</td>\n",
              "      <td>0.20000</td>\n",
              "      <td>0.50000</td>\n",
              "      <td>100</td>\n",
              "      <td>{'criterion': 'gini', 'max_features': 0.2, 'ma...</td>\n",
              "      <td>0.95335</td>\n",
              "      <td>0.95462</td>\n",
              "      <td>0.95399</td>\n",
              "      <td>0.00064</td>\n",
              "      <td>3</td>\n",
              "    </tr>\n",
              "    <tr>\n",
              "      <th>7</th>\n",
              "      <td>222.35422</td>\n",
              "      <td>9.66014</td>\n",
              "      <td>7.71886</td>\n",
              "      <td>0.14716</td>\n",
              "      <td>gini</td>\n",
              "      <td>0.30000</td>\n",
              "      <td>0.50000</td>\n",
              "      <td>100</td>\n",
              "      <td>{'criterion': 'gini', 'max_features': 0.3, 'ma...</td>\n",
              "      <td>0.95300</td>\n",
              "      <td>0.95413</td>\n",
              "      <td>0.95357</td>\n",
              "      <td>0.00056</td>\n",
              "      <td>4</td>\n",
              "    </tr>\n",
              "    <tr>\n",
              "      <th>10</th>\n",
              "      <td>91.69108</td>\n",
              "      <td>14.20568</td>\n",
              "      <td>3.86510</td>\n",
              "      <td>0.00828</td>\n",
              "      <td>entropy</td>\n",
              "      <td>0.20000</td>\n",
              "      <td>0.50000</td>\n",
              "      <td>50</td>\n",
              "      <td>{'criterion': 'entropy', 'max_features': 0.2, ...</td>\n",
              "      <td>0.95247</td>\n",
              "      <td>0.95352</td>\n",
              "      <td>0.95300</td>\n",
              "      <td>0.00053</td>\n",
              "      <td>5</td>\n",
              "    </tr>\n",
              "  </tbody>\n",
              "</table>\n",
              "</div>\n",
              "      <button class=\"colab-df-convert\" onclick=\"convertToInteractive('df-98d3b39d-ab54-48ae-a5b0-25ad2224f4de')\"\n",
              "              title=\"Convert this dataframe to an interactive table.\"\n",
              "              style=\"display:none;\">\n",
              "        \n",
              "  <svg xmlns=\"http://www.w3.org/2000/svg\" height=\"24px\"viewBox=\"0 0 24 24\"\n",
              "       width=\"24px\">\n",
              "    <path d=\"M0 0h24v24H0V0z\" fill=\"none\"/>\n",
              "    <path d=\"M18.56 5.44l.94 2.06.94-2.06 2.06-.94-2.06-.94-.94-2.06-.94 2.06-2.06.94zm-11 1L8.5 8.5l.94-2.06 2.06-.94-2.06-.94L8.5 2.5l-.94 2.06-2.06.94zm10 10l.94 2.06.94-2.06 2.06-.94-2.06-.94-.94-2.06-.94 2.06-2.06.94z\"/><path d=\"M17.41 7.96l-1.37-1.37c-.4-.4-.92-.59-1.43-.59-.52 0-1.04.2-1.43.59L10.3 9.45l-7.72 7.72c-.78.78-.78 2.05 0 2.83L4 21.41c.39.39.9.59 1.41.59.51 0 1.02-.2 1.41-.59l7.78-7.78 2.81-2.81c.8-.78.8-2.07 0-2.86zM5.41 20L4 18.59l7.72-7.72 1.47 1.35L5.41 20z\"/>\n",
              "  </svg>\n",
              "      </button>\n",
              "      \n",
              "  <style>\n",
              "    .colab-df-container {\n",
              "      display:flex;\n",
              "      flex-wrap:wrap;\n",
              "      gap: 12px;\n",
              "    }\n",
              "\n",
              "    .colab-df-convert {\n",
              "      background-color: #E8F0FE;\n",
              "      border: none;\n",
              "      border-radius: 50%;\n",
              "      cursor: pointer;\n",
              "      display: none;\n",
              "      fill: #1967D2;\n",
              "      height: 32px;\n",
              "      padding: 0 0 0 0;\n",
              "      width: 32px;\n",
              "    }\n",
              "\n",
              "    .colab-df-convert:hover {\n",
              "      background-color: #E2EBFA;\n",
              "      box-shadow: 0px 1px 2px rgba(60, 64, 67, 0.3), 0px 1px 3px 1px rgba(60, 64, 67, 0.15);\n",
              "      fill: #174EA6;\n",
              "    }\n",
              "\n",
              "    [theme=dark] .colab-df-convert {\n",
              "      background-color: #3B4455;\n",
              "      fill: #D2E3FC;\n",
              "    }\n",
              "\n",
              "    [theme=dark] .colab-df-convert:hover {\n",
              "      background-color: #434B5C;\n",
              "      box-shadow: 0px 1px 3px 1px rgba(0, 0, 0, 0.15);\n",
              "      filter: drop-shadow(0px 1px 2px rgba(0, 0, 0, 0.3));\n",
              "      fill: #FFFFFF;\n",
              "    }\n",
              "  </style>\n",
              "\n",
              "      <script>\n",
              "        const buttonEl =\n",
              "          document.querySelector('#df-98d3b39d-ab54-48ae-a5b0-25ad2224f4de button.colab-df-convert');\n",
              "        buttonEl.style.display =\n",
              "          google.colab.kernel.accessAllowed ? 'block' : 'none';\n",
              "\n",
              "        async function convertToInteractive(key) {\n",
              "          const element = document.querySelector('#df-98d3b39d-ab54-48ae-a5b0-25ad2224f4de');\n",
              "          const dataTable =\n",
              "            await google.colab.kernel.invokeFunction('convertToInteractive',\n",
              "                                                     [key], {});\n",
              "          if (!dataTable) return;\n",
              "\n",
              "          const docLinkHtml = 'Like what you see? Visit the ' +\n",
              "            '<a target=\"_blank\" href=https://colab.research.google.com/notebooks/data_table.ipynb>data table notebook</a>'\n",
              "            + ' to learn more about interactive tables.';\n",
              "          element.innerHTML = '';\n",
              "          dataTable['output_type'] = 'display_data';\n",
              "          await google.colab.output.renderOutput(dataTable, element);\n",
              "          const docLink = document.createElement('div');\n",
              "          docLink.innerHTML = docLinkHtml;\n",
              "          element.appendChild(docLink);\n",
              "        }\n",
              "      </script>\n",
              "    </div>\n",
              "  </div>\n",
              "  "
            ]
          },
          "metadata": {},
          "execution_count": 19
        }
      ],
      "source": [
        "score_df.sort_values([\"rank_test_score\"]).head(5)"
      ]
    },
    {
      "cell_type": "code",
      "execution_count": 20,
      "metadata": {
        "id": "and7VH6N6v0q",
        "colab": {
          "base_uri": "https://localhost:8080/"
        },
        "outputId": "cae99851-33ab-4fd5-86a2-fe22d5b6ee37"
      },
      "outputs": [
        {
          "output_type": "execute_result",
          "data": {
            "text/plain": [
              "RandomForestClassifier(criterion='entropy', max_features=0.2, max_samples=0.5,\n",
              "                       random_state=42)"
            ]
          },
          "metadata": {},
          "execution_count": 20
        }
      ],
      "source": [
        "grid_search.best_estimator_"
      ]
    },
    {
      "cell_type": "code",
      "execution_count": 21,
      "metadata": {
        "id": "ijhh9ykK6v0r"
      },
      "outputs": [],
      "source": [
        ""
      ]
    }
  ],
  "metadata": {
    "colab": {
      "collapsed_sections": [],
      "name": "TreesEnsembles_part2.ipynb",
      "provenance": []
    },
    "kernelspec": {
      "display_name": "Python 3",
      "language": "python",
      "name": "python3"
    },
    "language_info": {
      "codemirror_mode": {
        "name": "ipython",
        "version": 3
      },
      "file_extension": ".py",
      "mimetype": "text/x-python",
      "name": "python",
      "nbconvert_exporter": "python",
      "pygments_lexer": "ipython3",
      "version": "3.6.5"
    }
  },
  "nbformat": 4,
  "nbformat_minor": 0
}