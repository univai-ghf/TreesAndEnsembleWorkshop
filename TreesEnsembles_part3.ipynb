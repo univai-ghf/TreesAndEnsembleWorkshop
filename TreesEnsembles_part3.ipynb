{
  "cells": [
    {
      "cell_type": "markdown",
      "metadata": {
        "id": "xGuConhMhgrt"
      },
      "source": [
        "# Data Inputs and Display Libraries"
      ]
    },
    {
      "cell_type": "code",
      "execution_count": null,
      "metadata": {
        "id": "8DVqEKvOhgrv"
      },
      "outputs": [],
      "source": [
        "\n",
        "import pandas as pd\n",
        "import numpy as np\n",
        "import pickle\n",
        "pd.set_option('display.float_format', lambda x: '%.5f' % x)\n",
        "from IPython.core.interactiveshell import InteractiveShell\n",
        "InteractiveShell.ast_node_interactivity = 'all'"
      ]
    },
    {
      "cell_type": "markdown",
      "metadata": {
        "id": "9-Z_bjJdhgrv"
      },
      "source": [
        "# Modeling Libraries"
      ]
    },
    {
      "cell_type": "code",
      "execution_count": null,
      "metadata": {
        "id": "rD2WA45Jhgrx"
      },
      "outputs": [],
      "source": [
        "from sklearn.tree import DecisionTreeClassifier\n",
        "from sklearn.ensemble import AdaBoostClassifier\n",
        "from sklearn.ensemble import GradientBoostingClassifier\n",
        "from sklearn import model_selection\n",
        "from xgboost import XGBClassifier\n",
        "import pickle\n",
        "from sklearn.model_selection import GridSearchCV"
      ]
    },
    {
      "cell_type": "markdown",
      "metadata": {
        "id": "2q1oDIdyhgrx"
      },
      "source": [
        "# Metrics Libraries\n"
      ]
    },
    {
      "cell_type": "code",
      "execution_count": null,
      "metadata": {
        "id": "4ZQu2P5lhgry"
      },
      "outputs": [],
      "source": [
        "from sklearn.metrics import accuracy_score\n",
        "from sklearn.metrics import confusion_matrix,ConfusionMatrixDisplay\n",
        "from sklearn.metrics import roc_curve\n",
        "from sklearn.metrics import auc\n",
        "from sklearn.metrics import f1_score\n",
        "from matplotlib import pyplot\n",
        "import matplotlib.pyplot as plt\n",
        "from sklearn.metrics import average_precision_score\n",
        "from sklearn.metrics import precision_recall_curve"
      ]
    },
    {
      "cell_type": "code",
      "execution_count": null,
      "metadata": {
        "colab": {
          "base_uri": "https://localhost:8080/"
        },
        "id": "ah6NypeCh3ZU",
        "outputId": "7d1e3b24-524e-4d3a-b8f8-8ef5d805e432"
      },
      "outputs": [
        {
          "output_type": "stream",
          "name": "stdout",
          "text": [
            "--2022-03-10 07:17:59--  https://github.com/univai-ghf/ghfmedia/raw/main/data/Trees_and_Ensembles/datasets.rar\n",
            "Resolving github.com (github.com)... 13.114.40.48\n",
            "Connecting to github.com (github.com)|13.114.40.48|:443... connected.\n",
            "HTTP request sent, awaiting response... 302 Found\n",
            "Location: https://raw.githubusercontent.com/univai-ghf/ghfmedia/main/data/Trees_and_Ensembles/datasets.rar [following]\n",
            "--2022-03-10 07:17:59--  https://raw.githubusercontent.com/univai-ghf/ghfmedia/main/data/Trees_and_Ensembles/datasets.rar\n",
            "Resolving raw.githubusercontent.com (raw.githubusercontent.com)... 185.199.108.133, 185.199.111.133, 185.199.110.133, ...\n",
            "Connecting to raw.githubusercontent.com (raw.githubusercontent.com)|185.199.108.133|:443... connected.\n",
            "HTTP request sent, awaiting response... 200 OK\n",
            "Length: 3508143 (3.3M) [application/octet-stream]\n",
            "Saving to: ‘datasets.rar’\n",
            "\n",
            "datasets.rar        100%[===================>]   3.34M  --.-KB/s    in 0.08s   \n",
            "\n",
            "2022-03-10 07:18:00 (42.7 MB/s) - ‘datasets.rar’ saved [3508143/3508143]\n",
            "\n",
            "--2022-03-10 07:18:00--  https://github.com/univai-ghf/ghfmedia/raw/main/data/Trees_and_Ensembles/prep_file.rar\n",
            "Resolving github.com (github.com)... 13.114.40.48\n",
            "Connecting to github.com (github.com)|13.114.40.48|:443... connected.\n",
            "HTTP request sent, awaiting response... 302 Found\n",
            "Location: https://raw.githubusercontent.com/univai-ghf/ghfmedia/main/data/Trees_and_Ensembles/prep_file.rar [following]\n",
            "--2022-03-10 07:18:01--  https://raw.githubusercontent.com/univai-ghf/ghfmedia/main/data/Trees_and_Ensembles/prep_file.rar\n",
            "Resolving raw.githubusercontent.com (raw.githubusercontent.com)... 185.199.111.133, 185.199.110.133, 185.199.109.133, ...\n",
            "Connecting to raw.githubusercontent.com (raw.githubusercontent.com)|185.199.111.133|:443... connected.\n",
            "HTTP request sent, awaiting response... 200 OK\n",
            "Length: 954088 (932K) [application/octet-stream]\n",
            "Saving to: ‘prep_file.rar’\n",
            "\n",
            "prep_file.rar       100%[===================>] 931.73K  --.-KB/s    in 0.06s   \n",
            "\n",
            "2022-03-10 07:18:01 (16.1 MB/s) - ‘prep_file.rar’ saved [954088/954088]\n",
            "\n",
            "--2022-03-10 07:18:01--  https://github.com/univai-ghf/ghfmedia/raw/main/data/Trees_and_Ensembles/num_cols.csv\n",
            "Resolving github.com (github.com)... 13.114.40.48\n",
            "Connecting to github.com (github.com)|13.114.40.48|:443... connected.\n",
            "HTTP request sent, awaiting response... 302 Found\n",
            "Location: https://raw.githubusercontent.com/univai-ghf/ghfmedia/main/data/Trees_and_Ensembles/num_cols.csv [following]\n",
            "--2022-03-10 07:18:02--  https://raw.githubusercontent.com/univai-ghf/ghfmedia/main/data/Trees_and_Ensembles/num_cols.csv\n",
            "Resolving raw.githubusercontent.com (raw.githubusercontent.com)... 185.199.108.133, 185.199.111.133, 185.199.110.133, ...\n",
            "Connecting to raw.githubusercontent.com (raw.githubusercontent.com)|185.199.108.133|:443... connected.\n",
            "HTTP request sent, awaiting response... 200 OK\n",
            "Length: 95 [text/plain]\n",
            "Saving to: ‘num_cols.csv’\n",
            "\n",
            "num_cols.csv        100%[===================>]      95  --.-KB/s    in 0s      \n",
            "\n",
            "2022-03-10 07:18:02 (5.21 MB/s) - ‘num_cols.csv’ saved [95/95]\n",
            "\n",
            "--2022-03-10 07:18:02--  https://github.com/univai-ghf/ghfmedia/raw/main/data/Trees_and_Ensembles/str_cols.csv\n",
            "Resolving github.com (github.com)... 52.192.72.89\n",
            "Connecting to github.com (github.com)|52.192.72.89|:443... connected.\n",
            "HTTP request sent, awaiting response... 302 Found\n",
            "Location: https://raw.githubusercontent.com/univai-ghf/ghfmedia/main/data/Trees_and_Ensembles/str_cols.csv [following]\n",
            "--2022-03-10 07:18:02--  https://raw.githubusercontent.com/univai-ghf/ghfmedia/main/data/Trees_and_Ensembles/str_cols.csv\n",
            "Resolving raw.githubusercontent.com (raw.githubusercontent.com)... 185.199.108.133, 185.199.109.133, 185.199.110.133, ...\n",
            "Connecting to raw.githubusercontent.com (raw.githubusercontent.com)|185.199.108.133|:443... connected.\n",
            "HTTP request sent, awaiting response... 200 OK\n",
            "Length: 82 [text/plain]\n",
            "Saving to: ‘str_cols.csv’\n",
            "\n",
            "str_cols.csv        100%[===================>]      82  --.-KB/s    in 0s      \n",
            "\n",
            "2022-03-10 07:18:03 (5.42 MB/s) - ‘str_cols.csv’ saved [82/82]\n",
            "\n",
            "\n",
            "UNRAR 5.50 freeware      Copyright (c) 1993-2017 Alexander Roshal\n",
            "\n",
            "\n",
            "Extracting from /content/datasets.rar\n",
            "\n",
            "Extracting  y_train1                                                     \b\b\b\b  0%\b\b\b\b\b  OK \n",
            "Extracting  df_all_test2                                                 \b\b\b\b  1%\b\b\b\b  2%\b\b\b\b  3%\b\b\b\b  4%\b\b\b\b  5%\b\b\b\b  6%\b\b\b\b  7%\b\b\b\b  8%\b\b\b\b  9%\b\b\b\b 10%\b\b\b\b 11%\b\b\b\b 12%\b\b\b\b 13%\b\b\b\b 14%\b\b\b\b 15%\b\b\b\b 16%\b\b\b\b 17%\b\b\b\b 18%\b\b\b\b 19%\b\b\b\b 20%\b\b\b\b 21%\b\b\b\b 22%\b\b\b\b 23%\b\b\b\b 24%\b\b\b\b 25%\b\b\b\b 26%\b\b\b\b 27%\b\b\b\b 28%\b\b\b\b 29%\b\b\b\b 30%\b\b\b\b 31%\b\b\b\b 32%\b\b\b\b 33%\b\b\b\b\b  OK \n",
            "Extracting  df_all_train2                                                \b\b\b\b 34%\b\b\b\b 35%\b\b\b\b 36%\b\b\b\b 37%\b\b\b\b 38%\b\b\b\b 39%\b\b\b\b 40%\b\b\b\b 41%\b\b\b\b 42%\b\b\b\b 43%\b\b\b\b 44%\b\b\b\b 45%\b\b\b\b 46%\b\b\b\b 47%\b\b\b\b 48%\b\b\b\b 49%\b\b\b\b 50%\b\b\b\b 51%\b\b\b\b 52%\b\b\b\b 53%\b\b\b\b 54%\b\b\b\b 55%\b\b\b\b 56%\b\b\b\b 57%\b\b\b\b 58%\b\b\b\b 59%\b\b\b\b 60%\b\b\b\b 61%\b\b\b\b 62%\b\b\b\b 63%\b\b\b\b 64%\b\b\b\b 65%\b\b\b\b 66%\b\b\b\b 67%\b\b\b\b 68%\b\b\b\b 69%\b\b\b\b 70%\b\b\b\b 71%\b\b\b\b 72%\b\b\b\b 73%\b\b\b\b 74%\b\b\b\b 75%\b\b\b\b 76%\b\b\b\b 77%\b\b\b\b 78%\b\b\b\b 79%\b\b\b\b 80%\b\b\b\b 81%\b\b\b\b 82%\b\b\b\b 83%\b\b\b\b 84%\b\b\b\b 85%\b\b\b\b 86%\b\b\b\b 87%\b\b\b\b 88%\b\b\b\b 89%\b\b\b\b 90%\b\b\b\b 91%\b\b\b\b 92%\b\b\b\b 93%\b\b\b\b 94%\b\b\b\b 95%\b\b\b\b 96%\b\b\b\b 97%\b\b\b\b 98%\b\b\b\b 99%\b\b\b\b\b  OK \n",
            "Extracting  sel_cols                                                     \b\b\b\b 99%\b\b\b\b\b  OK \n",
            "Extracting  y_test1                                                      \b\b\b\b 99%\b\b\b\b\b  OK \n",
            "All OK\n",
            "\n",
            "UNRAR 5.50 freeware      Copyright (c) 1993-2017 Alexander Roshal\n",
            "\n",
            "\n",
            "Extracting from /content/prep_file.rar\n",
            "\n",
            "Extracting  prep_file.csv                                                \b\b\b\b  3%\b\b\b\b  6%\b\b\b\b 10%\b\b\b\b 13%\b\b\b\b 17%\b\b\b\b 20%\b\b\b\b 24%\b\b\b\b 27%\b\b\b\b 30%\b\b\b\b 34%\b\b\b\b 37%\b\b\b\b 41%\b\b\b\b 44%\b\b\b\b 48%\b\b\b\b 51%\b\b\b\b 54%\b\b\b\b 58%\b\b\b\b 61%\b\b\b\b 65%\b\b\b\b 68%\b\b\b\b 72%\b\b\b\b 75%\b\b\b\b 78%\b\b\b\b 82%\b\b\b\b 85%\b\b\b\b 89%\b\b\b\b 92%\b\b\b\b 96%\b\b\b\b 99%\b\b\b\b\b  OK \n",
            "All OK\n"
          ]
        }
      ],
      "source": [
        "# Accessing the data\n",
        "!wget \"https://github.com/univai-ghf/ghfmedia/raw/main/data/Trees_and_Ensembles/datasets.rar\" \n",
        "!wget \"https://github.com/univai-ghf/ghfmedia/raw/main/data/Trees_and_Ensembles/prep_file.rar\" \n",
        "!wget \"https://github.com/univai-ghf/ghfmedia/raw/main/data/Trees_and_Ensembles/num_cols.csv\" \n",
        "!wget \"https://github.com/univai-ghf/ghfmedia/raw/main/data/Trees_and_Ensembles/str_cols.csv\" \n",
        "\n",
        "#unziping the rar\n",
        "!unrar x './datasets.rar'\n",
        "!unrar x './prep_file.rar'"
      ]
    },
    {
      "cell_type": "code",
      "execution_count": null,
      "metadata": {
        "id": "8lfa8Sh4reaX"
      },
      "outputs": [],
      "source": [
        "\n",
        "def pick_in(obj_name):\n",
        "    fl_out1 = obj_name\n",
        "    pickle_in = open(fl_out1,\"rb\")\n",
        "    mod1= pickle.load(pickle_in)\n",
        "    \n",
        "    return mod1"
      ]
    },
    {
      "cell_type": "code",
      "execution_count": null,
      "metadata": {
        "id": "ZPlqWfY2pyWN"
      },
      "outputs": [],
      "source": [
        "list_objs = [\"df_all_train2\",\"y_train1\",\"df_all_test2\",\"y_test1\"]\n",
        "\n",
        "for i in list_objs:\n",
        "     globals()[i]= pick_in(i)"
      ]
    },
    {
      "cell_type": "code",
      "execution_count": null,
      "metadata": {
        "id": "dQLqH9HXhgr1"
      },
      "outputs": [],
      "source": [
        "def auc1_scr(mod1,test_set,actual1):\n",
        "  \n",
        "    mod = eval(mod1)\n",
        "    pred1=mod.predict_proba(test_set)[:,1]\n",
        "    fpr, tpr, thresholds = roc_curve(actual1, pred1)\n",
        "    auc1 = auc(fpr, tpr)\n",
        "    \n",
        "    return auc1"
      ]
    },
    {
      "cell_type": "code",
      "execution_count": null,
      "metadata": {
        "colab": {
          "base_uri": "https://localhost:8080/"
        },
        "id": "2KmvvXl3hgr2",
        "outputId": "3b44f713-d569-46ea-d971-55e1103e715a"
      },
      "outputs": [
        {
          "output_type": "execute_result",
          "data": {
            "text/plain": [
              "AdaBoostClassifier(n_estimators=100, random_state=0)"
            ]
          },
          "metadata": {},
          "execution_count": 8
        }
      ],
      "source": [
        "# AdaBoost Classifier\n",
        "\n",
        "ab = AdaBoostClassifier(n_estimators=100, random_state=0)\n",
        "ab.fit(df_all_train2,y_train1)"
      ]
    },
    {
      "cell_type": "code",
      "execution_count": null,
      "metadata": {
        "id": "IqsKbZBChgr3"
      },
      "outputs": [],
      "source": [
        "auc1_te = auc1_scr(\"ab\",df_all_test2,y_test1)\n",
        "auc1_tr = auc1_scr(\"ab\",df_all_train2,y_train1)"
      ]
    },
    {
      "cell_type": "code",
      "execution_count": null,
      "metadata": {
        "id": "_nwMGSfQhgr4",
        "outputId": "84cab92d-9de3-418b-d656-cd346c049bdd",
        "colab": {
          "base_uri": "https://localhost:8080/"
        }
      },
      "outputs": [
        {
          "output_type": "execute_result",
          "data": {
            "text/plain": [
              "(0.6239087454925901, 0.6283670987340262)"
            ]
          },
          "metadata": {},
          "execution_count": 10
        }
      ],
      "source": [
        "auc1_te,auc1_tr"
      ]
    },
    {
      "cell_type": "markdown",
      "metadata": {
        "id": "QmaoSv2fhgr5"
      },
      "source": [
        "# Grid Search"
      ]
    },
    {
      "cell_type": "code",
      "execution_count": null,
      "metadata": {
        "id": "-dFRUPY_hgr5"
      },
      "outputs": [],
      "source": [
        "# This will take around 1hr+ to execute on standard colab runtime\n",
        "# AB_grid= AdaBoostClassifier(random_state=42)\n",
        "\n",
        "# params = {\n",
        "#     'n_estimators': [100,500],\n",
        "#     'learning_rate': [0.2,0.5,1],\n",
        "#     'algorithm': ['SAMME','SAMME.R'],\n",
        "#     'base_estimator' : [DecisionTreeClassifier(max_depth=1),DecisionTreeClassifier(max_depth=2),DecisionTreeClassifier(max_depth=5)]\n",
        "# }\n",
        "\n",
        "# grid_search = GridSearchCV(estimator=AB_grid, \n",
        "#                            param_grid=params, \n",
        "#                            cv=2, n_jobs=5, verbose=1, scoring = \"roc_auc\")\n",
        "\n",
        "\n",
        "# grid_search.fit(df_all_test2,y_test1)"
      ]
    },
    {
      "cell_type": "code",
      "execution_count": null,
      "metadata": {
        "id": "RaBIaKlmhgr6"
      },
      "outputs": [],
      "source": [
        "# score_df = pd.DataFrame(grid_search.cv_results_)\n",
        "# score_df.head()\n",
        "# score_df.sort_values([\"rank_test_score\"]).head(5)"
      ]
    },
    {
      "cell_type": "markdown",
      "metadata": {
        "id": "f4KnkIJLhgr7"
      },
      "source": [
        "# Gradient Boosting"
      ]
    },
    {
      "cell_type": "code",
      "execution_count": null,
      "metadata": {
        "id": "RJnXsVmthgr7",
        "outputId": "f9e55155-341c-47d5-f101-669da1687559",
        "colab": {
          "base_uri": "https://localhost:8080/"
        }
      },
      "outputs": [
        {
          "output_type": "execute_result",
          "data": {
            "text/plain": [
              "GradientBoostingClassifier(learning_rate=0.5, max_depth=5, n_estimators=300)"
            ]
          },
          "metadata": {},
          "execution_count": 15
        }
      ],
      "source": [
        "# GradientBoosting Classifier\n",
        "\n",
        "# It will take around 9 mins for execution\n",
        "gb = GradientBoostingClassifier(max_depth=5,n_estimators=300, learning_rate=0.5)\n",
        "gb.fit(df_all_train2,y_train1)\n"
      ]
    },
    {
      "cell_type": "code",
      "execution_count": null,
      "metadata": {
        "id": "O_JgmZCChgr8"
      },
      "outputs": [],
      "source": [
        "auc1_te = auc1_scr(\"gb\",df_all_test2,y_test1)\n",
        "auc1_tr = auc1_scr(\"gb\",df_all_train2,y_train1)"
      ]
    },
    {
      "cell_type": "code",
      "execution_count": null,
      "metadata": {
        "id": "gmz9u2wGhgr8",
        "outputId": "cfe66757-24f3-4322-e3c9-a9ca9eba5689",
        "colab": {
          "base_uri": "https://localhost:8080/"
        }
      },
      "outputs": [
        {
          "output_type": "execute_result",
          "data": {
            "text/plain": [
              "(0.9026801872014071, 0.9488784003834644)"
            ]
          },
          "metadata": {},
          "execution_count": 17
        }
      ],
      "source": [
        "auc1_te,auc1_tr"
      ]
    },
    {
      "cell_type": "code",
      "execution_count": null,
      "metadata": {
        "id": "d5656SaLhgr9",
        "outputId": "a542456e-d42b-4197-ad95-4aeea0aa1e87",
        "colab": {
          "base_uri": "https://localhost:8080/"
        }
      },
      "outputs": [
        {
          "output_type": "execute_result",
          "data": {
            "text/plain": [
              "XGBClassifier()"
            ]
          },
          "metadata": {},
          "execution_count": 18
        }
      ],
      "source": [
        "# XGB Classifier\n",
        "\n",
        "# It will take around 4 mins for execution\n",
        "xgb = XGBClassifier()\n",
        "xgb.fit(df_all_train2,y_train1)"
      ]
    },
    {
      "cell_type": "code",
      "execution_count": null,
      "metadata": {
        "id": "8rF3yLiShgr-"
      },
      "outputs": [],
      "source": [
        "auc1_te = auc1_scr(\"xgb\",df_all_test2,y_test1)\n",
        "auc1_tr = auc1_scr(\"xgb\",df_all_train2,y_train1)"
      ]
    },
    {
      "cell_type": "code",
      "execution_count": null,
      "metadata": {
        "id": "8J9oJGEIhgr_",
        "outputId": "e4a00390-a6f2-40d7-a178-303d13a38482",
        "colab": {
          "base_uri": "https://localhost:8080/"
        }
      },
      "outputs": [
        {
          "output_type": "execute_result",
          "data": {
            "text/plain": [
              "(0.663948910348972, 0.6733339608819728)"
            ]
          },
          "metadata": {},
          "execution_count": 20
        }
      ],
      "source": [
        "auc1_te,auc1_tr"
      ]
    },
    {
      "cell_type": "code",
      "execution_count": null,
      "metadata": {
        "id": "O_CIE5EmhgsA",
        "colab": {
          "base_uri": "https://localhost:8080/"
        },
        "outputId": "c116a09d-f725-4436-9b54-c1cdf8f0f39e"
      },
      "outputs": [
        {
          "output_type": "execute_result",
          "data": {
            "text/plain": [
              "XGBClassifier(class_weights=[0.1, 0.9], colsample_bytree=0.3, max_depth=5,\n",
              "              n_estimators=300, subsample=0.2)"
            ]
          },
          "metadata": {},
          "execution_count": 21
        }
      ],
      "source": [
        "class_weights = [0.1,0.9]\n",
        "\n",
        "xgb_param = XGBClassifier(n_estimators=300,max_depth= 5,class_weights = class_weights,\n",
        "                          subsample= 0.2,colsample_bytree= 0.3,random_state=0)\n",
        "\n",
        "\n",
        "xgb_param.fit(df_all_train2,y_train1)"
      ]
    },
    {
      "cell_type": "code",
      "execution_count": null,
      "metadata": {
        "id": "1hWGUq1qhgsA"
      },
      "outputs": [],
      "source": [
        "auc1_te = auc1_scr(\"xgb_param\",df_all_test2,y_test1)\n",
        "auc1_tr = auc1_scr(\"xgb_param\",df_all_train2,y_train1)"
      ]
    },
    {
      "cell_type": "code",
      "execution_count": null,
      "metadata": {
        "id": "1r6O9UWGhgsB",
        "outputId": "31c8b6dc-1129-4873-932d-907cfd595f01",
        "colab": {
          "base_uri": "https://localhost:8080/"
        }
      },
      "outputs": [
        {
          "output_type": "execute_result",
          "data": {
            "text/plain": [
              "(0.7972238724769605, 0.8106333886227974)"
            ]
          },
          "metadata": {},
          "execution_count": 23
        }
      ],
      "source": [
        "auc1_te,auc1_tr"
      ]
    }
  ],
  "metadata": {
    "colab": {
      "collapsed_sections": [],
      "name": "TreesEnsembles_part3.ipynb",
      "provenance": []
    },
    "kernelspec": {
      "display_name": "Python 3",
      "language": "python",
      "name": "python3"
    },
    "language_info": {
      "codemirror_mode": {
        "name": "ipython",
        "version": 3
      },
      "file_extension": ".py",
      "mimetype": "text/x-python",
      "name": "python",
      "nbconvert_exporter": "python",
      "pygments_lexer": "ipython3",
      "version": "3.6.5"
    }
  },
  "nbformat": 4,
  "nbformat_minor": 0
}