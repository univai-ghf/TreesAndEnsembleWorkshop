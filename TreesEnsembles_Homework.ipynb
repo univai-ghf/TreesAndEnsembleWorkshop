{
  "cells": [
    {
      "cell_type": "markdown",
      "source": [
        "## Trees & Ensembles Workshop Homework\n",
        "\n",
        "1. Make a Random Forest Classifier (using the datatet provided to you)\n",
        "2. Come up with the best estimators for the Random Forest Classifier using :\n",
        "> n_estimators = [40, 80, 120] <br/>\n",
        "> criterion = [\"gini\", \"entropy\",] <br/>\n",
        "> max_features = [\"auto\", \"sqrt\", \"log2\"] <br/> *Look up the documentation to understand about auto, sqrt, log2 as max_features*\n",
        "3. Get the scores convert it into a Dataframe.\n",
        "4. Sort the scores as per rank_test_score (Note : rank 1 should come on top)\n",
        "4. Print the best estimators\n",
        "\n",
        "\n",
        "\n",
        "\n",
        "\n"
      ],
      "metadata": {
        "id": "jCKPQljOJgPm"
      }
    },
    {
      "cell_type": "markdown",
      "metadata": {
        "id": "42KXDeQn6v0C"
      },
      "source": [
        "# Data inputs and Display Libraries"
      ]
    },
    {
      "cell_type": "code",
      "execution_count": null,
      "metadata": {
        "id": "o9_UXB_06v0L"
      },
      "outputs": [],
      "source": [
        "import pandas as pd\n",
        "import numpy as np\n",
        "import pickle\n",
        "\n",
        "pd.set_option('display.float_format', lambda x: '%.5f' % x)\n",
        "from IPython.core.interactiveshell import InteractiveShell\n",
        "InteractiveShell.ast_node_interactivity = 'all'"
      ]
    },
    {
      "cell_type": "markdown",
      "metadata": {
        "id": "qiuawk-z6v0R"
      },
      "source": [
        "# Modelling Libraries"
      ]
    },
    {
      "cell_type": "code",
      "execution_count": null,
      "metadata": {
        "id": "aa9mody_6v0S"
      },
      "outputs": [],
      "source": [
        "from sklearn.ensemble import BaggingClassifier\n",
        "from sklearn.ensemble import RandomForestClassifier\n",
        "from sklearn import model_selection\n",
        "\n",
        "from xgboost import XGBClassifier\n",
        "import pickle\n",
        "from sklearn.model_selection import GridSearchCV"
      ]
    },
    {
      "cell_type": "markdown",
      "metadata": {
        "id": "LYQVTEsY6v0T"
      },
      "source": [
        "# Metrics Libraries\n"
      ]
    },
    {
      "cell_type": "code",
      "execution_count": null,
      "metadata": {
        "id": "a73tPUb96v0U"
      },
      "outputs": [],
      "source": [
        "from sklearn.metrics import accuracy_score\n",
        "from sklearn.metrics import confusion_matrix,ConfusionMatrixDisplay\n",
        "from sklearn.metrics import roc_curve\n",
        "from sklearn.metrics import auc\n",
        "from sklearn.metrics import f1_score\n",
        "from matplotlib import pyplot\n",
        "import matplotlib.pyplot as plt\n",
        "from sklearn.metrics import average_precision_score\n",
        "from sklearn.metrics import precision_recall_curve"
      ]
    },
    {
      "cell_type": "code",
      "execution_count": null,
      "metadata": {
        "colab": {
          "base_uri": "https://localhost:8080/"
        },
        "id": "LOcNNPU17Cte",
        "outputId": "fd916f57-56ed-4750-8639-f69ba9847388"
      },
      "outputs": [
        {
          "output_type": "stream",
          "name": "stdout",
          "text": [
            "--2022-03-17 04:51:18--  https://github.com/univai-ghf/ghfmedia/raw/main/data/Trees_and_Ensembles/datasets.rar\n",
            "Resolving github.com (github.com)... 140.82.114.3\n",
            "Connecting to github.com (github.com)|140.82.114.3|:443... connected.\n",
            "HTTP request sent, awaiting response... 302 Found\n",
            "Location: https://raw.githubusercontent.com/univai-ghf/ghfmedia/main/data/Trees_and_Ensembles/datasets.rar [following]\n",
            "--2022-03-17 04:51:19--  https://raw.githubusercontent.com/univai-ghf/ghfmedia/main/data/Trees_and_Ensembles/datasets.rar\n",
            "Resolving raw.githubusercontent.com (raw.githubusercontent.com)... 185.199.108.133, 185.199.109.133, 185.199.110.133, ...\n",
            "Connecting to raw.githubusercontent.com (raw.githubusercontent.com)|185.199.108.133|:443... connected.\n",
            "HTTP request sent, awaiting response... 200 OK\n",
            "Length: 3508143 (3.3M) [application/octet-stream]\n",
            "Saving to: ‘datasets.rar’\n",
            "\n",
            "datasets.rar        100%[===================>]   3.34M  --.-KB/s    in 0.07s   \n",
            "\n",
            "2022-03-17 04:51:19 (51.1 MB/s) - ‘datasets.rar’ saved [3508143/3508143]\n",
            "\n"
          ]
        }
      ],
      "source": [
        "# Acessing the data\n",
        "!wget \"https://github.com/univai-ghf/ghfmedia/raw/main/data/Trees_and_Ensembles/datasets.rar\" "
      ]
    },
    {
      "cell_type": "code",
      "execution_count": null,
      "metadata": {
        "colab": {
          "base_uri": "https://localhost:8080/"
        },
        "id": "XuWhARFE7Jem",
        "outputId": "a7b06d0e-df17-451a-fa5b-6ac324e56ab0"
      },
      "outputs": [
        {
          "output_type": "stream",
          "name": "stdout",
          "text": [
            "\n",
            "UNRAR 5.50 freeware      Copyright (c) 1993-2017 Alexander Roshal\n",
            "\n",
            "\n",
            "Extracting from ./datasets.rar\n",
            "\n",
            "Extracting  workshop_trees/y_train1                                      \b\b\b\b  0%\b\b\b\b\b  OK \n",
            "Extracting  workshop_trees/df_all_test2                                  \b\b\b\b  1%\b\b\b\b  2%\b\b\b\b  3%\b\b\b\b  4%\b\b\b\b  5%\b\b\b\b  6%\b\b\b\b  7%\b\b\b\b  8%\b\b\b\b  9%\b\b\b\b 10%\b\b\b\b 11%\b\b\b\b 12%\b\b\b\b 13%\b\b\b\b 14%\b\b\b\b 15%\b\b\b\b 16%\b\b\b\b 17%\b\b\b\b 18%\b\b\b\b 19%\b\b\b\b 20%\b\b\b\b 21%\b\b\b\b 22%\b\b\b\b 23%\b\b\b\b 24%\b\b\b\b 25%\b\b\b\b 26%\b\b\b\b 27%\b\b\b\b 28%\b\b\b\b 29%\b\b\b\b 30%\b\b\b\b 31%\b\b\b\b 32%\b\b\b\b 33%\b\b\b\b\b  OK \n",
            "Extracting  workshop_trees/df_all_train2                                 \b\b\b\b 34%\b\b\b\b 35%\b\b\b\b 36%\b\b\b\b 37%\b\b\b\b 38%\b\b\b\b 39%\b\b\b\b 40%\b\b\b\b 41%\b\b\b\b 42%\b\b\b\b 43%\b\b\b\b 44%\b\b\b\b 45%\b\b\b\b 46%\b\b\b\b 47%\b\b\b\b 48%\b\b\b\b 49%\b\b\b\b 50%\b\b\b\b 51%\b\b\b\b 52%\b\b\b\b 53%\b\b\b\b 54%\b\b\b\b 55%\b\b\b\b 56%\b\b\b\b 57%\b\b\b\b 58%\b\b\b\b 59%\b\b\b\b 60%\b\b\b\b 61%\b\b\b\b 62%\b\b\b\b 63%\b\b\b\b 64%\b\b\b\b 65%\b\b\b\b 66%\b\b\b\b 67%\b\b\b\b 68%\b\b\b\b 69%\b\b\b\b 70%\b\b\b\b 71%\b\b\b\b 72%\b\b\b\b 73%\b\b\b\b 74%\b\b\b\b 75%\b\b\b\b 76%\b\b\b\b 77%\b\b\b\b 78%\b\b\b\b 79%\b\b\b\b 80%\b\b\b\b 81%\b\b\b\b 82%\b\b\b\b 83%\b\b\b\b 84%\b\b\b\b 85%\b\b\b\b 86%\b\b\b\b 87%\b\b\b\b 88%\b\b\b\b 89%\b\b\b\b 90%\b\b\b\b 91%\b\b\b\b 92%\b\b\b\b 93%\b\b\b\b 94%\b\b\b\b 95%\b\b\b\b 96%\b\b\b\b 97%\b\b\b\b 98%\b\b\b\b 99%\b\b\b\b\b  OK \n",
            "Extracting  workshop_trees/sel_cols                                      \b\b\b\b 99%\b\b\b\b\b  OK \n",
            "Extracting  workshop_trees/y_test1                                       \b\b\b\b 99%\b\b\b\b\b  OK \n",
            "All OK\n"
          ]
        }
      ],
      "source": [
        "# Extracting the dataset\n",
        "!mkdir './workshop_trees'\n",
        "!unrar e './datasets.rar' 'workshop_trees'"
      ]
    },
    {
      "cell_type": "code",
      "execution_count": null,
      "metadata": {
        "id": "qNCazT426v0W"
      },
      "outputs": [],
      "source": [
        "fl_out = \"./workshop_trees\"\n",
        "def pick_in(obj_name):\n",
        "    fl_out1 = fl_out + \"/\" + obj_name\n",
        "    pickle_in = open(fl_out1,\"rb\")\n",
        "    mod1= pickle.load(pickle_in)\n",
        "    \n",
        "    return mod1"
      ]
    },
    {
      "cell_type": "code",
      "execution_count": null,
      "metadata": {
        "id": "N45LpgW76v0Y"
      },
      "outputs": [],
      "source": [
        "list_objs = [\"df_all_train2\",\"y_train1\",\"df_all_test2\",\"y_test1\"]\n",
        "\n",
        "for i in list_objs:\n",
        "     globals()[i]= pick_in(i)"
      ]
    },
    {
      "cell_type": "code",
      "execution_count": null,
      "metadata": {
        "id": "a8Ma_JY06v0a"
      },
      "outputs": [],
      "source": [
        "def auc1_scr(mod1,test_set,actual1):\n",
        "    mod = eval(mod1)\n",
        "    pred1=mod.predict_proba(test_set)[:,1]\n",
        "    fpr, tpr, thresholds = roc_curve(actual1, pred1)\n",
        "    auc1 = auc(fpr, tpr)\n",
        "    \n",
        "    return auc1"
      ]
    },
    {
      "cell_type": "code",
      "execution_count": null,
      "metadata": {
        "id": "Pu7Nw94x6v0b"
      },
      "outputs": [],
      "source": [
        "# Your code here\n"
      ]
    },
    {
      "cell_type": "code",
      "source": [
        ""
      ],
      "metadata": {
        "id": "rwUi4Kv2QVMA"
      },
      "execution_count": null,
      "outputs": []
    }
  ],
  "metadata": {
    "colab": {
      "collapsed_sections": [],
      "name": "TreesEnsembles_Homework.ipynb",
      "provenance": []
    },
    "kernelspec": {
      "display_name": "Python 3",
      "language": "python",
      "name": "python3"
    },
    "language_info": {
      "codemirror_mode": {
        "name": "ipython",
        "version": 3
      },
      "file_extension": ".py",
      "mimetype": "text/x-python",
      "name": "python",
      "nbconvert_exporter": "python",
      "pygments_lexer": "ipython3",
      "version": "3.6.5"
    },
    "accelerator": "GPU"
  },
  "nbformat": 4,
  "nbformat_minor": 0
}